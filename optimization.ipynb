{
  "cells": [
    {
      "cell_type": "markdown",
      "metadata": {
        "id": "view-in-github",
        "colab_type": "text"
      },
      "source": [
        "<a href=\"https://colab.research.google.com/github/Trung0Minh/AIO2023-MODULE-5/blob/main/optimization.ipynb\" target=\"_parent\"><img src=\"https://colab.research.google.com/assets/colab-badge.svg\" alt=\"Open In Colab\"/></a>"
      ]
    },
    {
      "cell_type": "markdown",
      "source": [
        "# Optimizers"
      ],
      "metadata": {
        "id": "hbbL--T2aSu5"
      }
    },
    {
      "cell_type": "code",
      "source": [
        "import numpy as np"
      ],
      "metadata": {
        "id": "4digL_zeR-Fr"
      },
      "execution_count": 1,
      "outputs": []
    },
    {
      "cell_type": "markdown",
      "source": [
        "$f(w_{1}, w_{2}) = 0.1w_{1}^2 + 2w_{2}^2$"
      ],
      "metadata": {
        "id": "k1uSiHE-SxOg"
      }
    },
    {
      "cell_type": "code",
      "source": [
        "def df_w(W):\n",
        "    dW = np.array([0.2*W[0], 4*W[1]])\n",
        "    return dW"
      ],
      "metadata": {
        "id": "5LUQX8l2SZ5Z"
      },
      "execution_count": 2,
      "outputs": []
    },
    {
      "cell_type": "markdown",
      "source": [
        "## Gradient Descent"
      ],
      "metadata": {
        "id": "jJX69GHtUqDk"
      }
    },
    {
      "cell_type": "code",
      "source": [
        "def sgd(W, dW, lr):\n",
        "    W = W - lr * dW\n",
        "    return W"
      ],
      "metadata": {
        "id": "BcffhkHVTr33"
      },
      "execution_count": 3,
      "outputs": []
    },
    {
      "cell_type": "code",
      "source": [
        "def train_p1(optimizer, lr, epochs):\n",
        "    W = np.array([-5, 2], dtype=np.float32)\n",
        "    result = [W]\n",
        "    for _ in range(epochs):\n",
        "        dW = df_w(W)\n",
        "        W = optimizer(W, dW, lr)\n",
        "        result.append(W)\n",
        "    return result"
      ],
      "metadata": {
        "id": "Q3ddxRI1T08N"
      },
      "execution_count": 4,
      "outputs": []
    },
    {
      "cell_type": "code",
      "source": [
        "train_p1(sgd, lr=0.4, epochs=30)"
      ],
      "metadata": {
        "colab": {
          "base_uri": "https://localhost:8080/"
        },
        "id": "xmQwET9AUPNK",
        "outputId": "c7ca5caa-4c0e-4501-ba64-6757d2699d6f"
      },
      "execution_count": 5,
      "outputs": [
        {
          "output_type": "execute_result",
          "data": {
            "text/plain": [
              "[array([-5.,  2.], dtype=float32),\n",
              " array([-4.6, -1.2]),\n",
              " array([-4.232,  0.72 ]),\n",
              " array([-3.89344, -0.432  ]),\n",
              " array([-3.5819648,  0.2592   ]),\n",
              " array([-3.29540762, -0.15552   ]),\n",
              " array([-3.03177501,  0.093312  ]),\n",
              " array([-2.78923301, -0.0559872 ]),\n",
              " array([-2.56609437,  0.03359232]),\n",
              " array([-2.36080682, -0.02015539]),\n",
              " array([-2.17194227,  0.01209324]),\n",
              " array([-1.99818689, -0.00725594]),\n",
              " array([-1.83833194,  0.00435356]),\n",
              " array([-1.69126538, -0.00261214]),\n",
              " array([-1.55596415,  0.00156728]),\n",
              " array([-1.43148702e+00, -9.40369969e-04]),\n",
              " array([-1.31696806e+00,  5.64221981e-04]),\n",
              " array([-1.21161061e+00, -3.38533189e-04]),\n",
              " array([-1.11468176e+00,  2.03119913e-04]),\n",
              " array([-1.02550722e+00, -1.21871948e-04]),\n",
              " array([-9.43466646e-01,  7.31231688e-05]),\n",
              " array([-8.67989314e-01, -4.38739013e-05]),\n",
              " array([-7.98550169e-01,  2.63243408e-05]),\n",
              " array([-7.34666155e-01, -1.57946045e-05]),\n",
              " array([-6.75892863e-01,  9.47676268e-06]),\n",
              " array([-6.21821434e-01, -5.68605761e-06]),\n",
              " array([-5.72075719e-01,  3.41163456e-06]),\n",
              " array([-5.26309662e-01, -2.04698074e-06]),\n",
              " array([-4.84204889e-01,  1.22818844e-06]),\n",
              " array([-4.45468498e-01, -7.36913066e-07]),\n",
              " array([-4.09831018e-01,  4.42147839e-07])]"
            ]
          },
          "metadata": {},
          "execution_count": 5
        }
      ]
    },
    {
      "cell_type": "markdown",
      "source": [
        "## GD + Momentum"
      ],
      "metadata": {
        "id": "3T8R5hYbUVBk"
      }
    },
    {
      "cell_type": "code",
      "source": [
        "def sgd_momentum(W, dW, lr, V, beta):\n",
        "    V = beta*V + (1 - beta)*dW\n",
        "    W = W - lr*V\n",
        "    return W, V"
      ],
      "metadata": {
        "id": "m8Bp0eQ5UXlA"
      },
      "execution_count": 6,
      "outputs": []
    },
    {
      "cell_type": "code",
      "source": [
        "def train_p1(optimizer, lr, epochs):\n",
        "    W = np.array([-5, -2], dtype=np.float32)\n",
        "    V = np.array([0, 0], dtype=np.float32)\n",
        "    beta = 0.9\n",
        "    results = [W]\n",
        "\n",
        "    for _ in range(epochs):\n",
        "        dW = df_w(W)\n",
        "        W, V = sgd_momentum(W, dW, lr, V, beta)\n",
        "        results.append(W)\n",
        "    return results"
      ],
      "metadata": {
        "id": "or2XsTXuVi29"
      },
      "execution_count": 9,
      "outputs": []
    },
    {
      "cell_type": "code",
      "source": [
        "train_p1(sgd_momentum, lr=0.6, epochs=30)"
      ],
      "metadata": {
        "colab": {
          "base_uri": "https://localhost:8080/"
        },
        "id": "rU0bPx_0Vx8N",
        "outputId": "3d990283-3b02-47be-8c50-4397c06e361f"
      },
      "execution_count": 10,
      "outputs": [
        {
          "output_type": "execute_result",
          "data": {
            "text/plain": [
              "[array([-5., -2.], dtype=float32),\n",
              " array([-4.94, -1.52]),\n",
              " array([-4.82672, -0.7232 ]),\n",
              " array([-4.66684736,  0.167488  ]),\n",
              " array([-4.46695982,  0.92891008]),\n",
              " array([-4.23345751,  1.39125153]),\n",
              " array([-3.97250394,  1.47345847]),\n",
              " array([-3.68997568,  1.19381468]),\n",
              " array([-3.39142054,  0.65561975]),\n",
              " array([-3.08202387,  0.01389557]),\n",
              " array([-2.76658258, -0.56699113]),\n",
              " array([-2.44948643, -0.95371129]),\n",
              " array([-2.13470605, -1.07286872]),\n",
              " array([-1.82578724, -0.92262192]),\n",
              " array([-1.52585086, -0.56597054]),\n",
              " array([-1.23759791, -0.10915136]),\n",
              " array([-0.96331909,  0.32818222]),\n",
              " array([-0.70490831,  0.64301871]),\n",
              " array([-0.46387971,  0.77204706]),\n",
              " array([-0.24138742,  0.70288128]),\n",
              " array([-0.03824771,  0.47194058]),\n",
              " array([0.14503701, 0.1508282 ]),\n",
              " array([ 0.30825281, -0.17437171]),\n",
              " array([ 0.45144799, -0.42520241]),\n",
              " array([ 0.57490629, -0.54890147]),\n",
              " array([ 0.67911987, -0.52849427]),\n",
              " array([ 0.76476266, -0.38328916]),\n",
              " array([ 0.83266402, -0.16061517]),\n",
              " array([0.88378327, 0.07833907]),\n",
              " array([0.9191852, 0.2745965]),\n",
              " array([0.94001672, 0.38532503])]"
            ]
          },
          "metadata": {},
          "execution_count": 10
        }
      ]
    },
    {
      "cell_type": "markdown",
      "source": [
        "## RMSProp"
      ],
      "metadata": {
        "id": "p8E-tVDLX2v1"
      }
    },
    {
      "cell_type": "code",
      "source": [
        "def RMSProp(W, dW, lr, S, gamma):\n",
        "    epsilon = 1e-6\n",
        "    S = gamma*S + (1 - gamma)*(dW**2)\n",
        "    W = W - lr*(dW/np.sqrt(S + epsilon))\n",
        "    return W, S"
      ],
      "metadata": {
        "id": "urIipmTRX9_m"
      },
      "execution_count": 11,
      "outputs": []
    },
    {
      "cell_type": "code",
      "source": [
        "def train_p1(optimizer, lr, epochs):\n",
        "    W = np.array([-5, -2], dtype=np.float32)\n",
        "    S = np.array([0, 0], dtype=np.float32)\n",
        "    gamma = 0.9\n",
        "    results = [W]\n",
        "\n",
        "    for _ in range(epochs):\n",
        "        dW = df_w(W)\n",
        "        W, S = RMSProp(W, dW, lr, S, gamma)\n",
        "        results.append(W)\n",
        "    return results"
      ],
      "metadata": {
        "id": "nB9sC7JLYh-F"
      },
      "execution_count": 12,
      "outputs": []
    },
    {
      "cell_type": "code",
      "source": [
        "train_p1(RMSProp, lr=0.3, epochs=30)"
      ],
      "metadata": {
        "colab": {
          "base_uri": "https://localhost:8080/"
        },
        "id": "Ny9NcjgzY6PL",
        "outputId": "32f2db1d-57d8-4753-e7e8-58b98f6689cd"
      },
      "execution_count": 13,
      "outputs": [
        {
          "output_type": "execute_result",
          "data": {
            "text/plain": [
              "[array([-5., -2.], dtype=float32),\n",
              " array([-4.05132145, -1.05131678]),\n",
              " array([-3.43519754, -0.59152343]),\n",
              " array([-2.95893693, -0.3294394 ]),\n",
              " array([-2.56546289, -0.17756482]),\n",
              " array([-2.22920552, -0.09163256]),\n",
              " array([-1.93626752, -0.04494499]),\n",
              " array([-1.67817686, -0.02081423]),\n",
              " array([-1.44934985, -0.00903559]),\n",
              " array([-1.24588199, -0.00364591]),\n",
              " array([-1.06490301, -0.00135351]),\n",
              " array([-9.04202260e-01, -4.56444431e-04]),\n",
              " array([-7.61996495e-01, -1.37562928e-04]),\n",
              " array([-6.36778499e-01, -3.62601019e-05]),\n",
              " array([-5.27215237e-01, -8.11337456e-06]),\n",
              " array([-4.32078505e-01, -1.47473412e-06]),\n",
              " array([-3.50198507e-01, -2.02783991e-07]),\n",
              " array([-2.80434649e-01, -1.84231187e-08]),\n",
              " array([-2.21659834e-01, -7.67742748e-10]),\n",
              " array([-1.72755512e-01,  7.80451998e-12]),\n",
              " array([-1.32615134e-01, -5.05794800e-13]),\n",
              " array([-1.00153779e-01,  6.19123501e-14]),\n",
              " array([-7.43217708e-02, -1.13373781e-14]),\n",
              " array([-5.41201278e-02,  2.80166702e-15]),\n",
              " array([-3.86159157e-02, -8.81341191e-16]),\n",
              " array([-2.69558066e-02,  3.39921117e-16]),\n",
              " array([-1.83765633e-02, -1.56581731e-16]),\n",
              " array([-1.22116093e-02,  8.44994985e-17]),\n",
              " array([-7.89331794e-03, -5.26376595e-17]),\n",
              " array([-4.95110261e-03,  3.74107995e-17]),\n",
              " array([-3.00577081e-03, -3.00506084e-17])]"
            ]
          },
          "metadata": {},
          "execution_count": 13
        }
      ]
    },
    {
      "cell_type": "markdown",
      "source": [
        "## Adam"
      ],
      "metadata": {
        "id": "JzOjqscZY_OP"
      }
    },
    {
      "cell_type": "code",
      "source": [
        "def Adam(W, dW, lr, V, S, beta1, beta2, t):\n",
        "    epsilon = 1e-6\n",
        "    V = beta1*V + (1 - beta1)*dW\n",
        "    S = beta2*S + (1 - beta2)*(dW**2)\n",
        "    V_corr = V/(1 - beta1**t)\n",
        "    S_corr = S/(1 - beta2**t)\n",
        "    W = W - lr*(V_corr/(np.sqrt(S_corr) + epsilon))\n",
        "    return W, V, S"
      ],
      "metadata": {
        "id": "QW6yRDY-Y9qK"
      },
      "execution_count": 14,
      "outputs": []
    },
    {
      "cell_type": "code",
      "source": [
        "def train_p1(optimizer, lr, epochs):\n",
        "    W = np.array([-5, -2], dtype=np.float32)\n",
        "    V = np.array([0, 0], dtype=np.float32)\n",
        "    S = np.array([0, 0], dtype=np.float32)\n",
        "    beta1 = 0.9\n",
        "    beta2 = 0.999\n",
        "    t = 1\n",
        "    results = [W]\n",
        "\n",
        "    for _ in range(epochs):\n",
        "        dW = df_w(W)\n",
        "        W, V, S = Adam(W, dW, lr, V, S, beta1, beta2, t)\n",
        "        results.append(W)\n",
        "    return results"
      ],
      "metadata": {
        "id": "mYZZDgn4ZpIo"
      },
      "execution_count": 17,
      "outputs": []
    },
    {
      "cell_type": "code",
      "source": [
        "train_p1(Adam, lr=0.2, epochs=30)"
      ],
      "metadata": {
        "colab": {
          "base_uri": "https://localhost:8080/"
        },
        "id": "r_3RPNWFZ5TH",
        "outputId": "1f6837d8-87c8-472f-e1ec-0a5819598df8"
      },
      "execution_count": 18,
      "outputs": [
        {
          "output_type": "execute_result",
          "data": {
            "text/plain": [
              "[array([-5., -2.], dtype=float32),\n",
              " array([-4.8000002 , -1.80000002]),\n",
              " array([-4.53157446, -1.53234021]),\n",
              " array([-4.2198145 , -1.22391458]),\n",
              " array([-3.87886593, -0.8920874 ]),\n",
              " array([-3.5184822 , -0.55167136]),\n",
              " array([-3.14612788, -0.21734608]),\n",
              " array([-2.7679101 ,  0.09556942]),\n",
              " array([-2.38906471,  0.37175056]),\n",
              " array([-2.01423269,  0.5978378 ]),\n",
              " array([-1.64762053,  0.76489708]),\n",
              " array([-1.29308728,  0.8698814 ]),\n",
              " array([-0.95417995,  0.91525602]),\n",
              " array([-0.63413034,  0.90733373]),\n",
              " array([-0.33582336,  0.85443713]),\n",
              " array([-0.06174675,  0.76556849]),\n",
              " array([0.18606706, 0.64967888]),\n",
              " array([0.40609556, 0.51535336]),\n",
              " array([0.59736657, 0.37070313]),\n",
              " array([0.75947608, 0.22331396]),\n",
              " array([0.89257921, 0.08016373]),\n",
              " array([ 0.99735438, -0.05252633]),\n",
              " array([ 1.07494495, -0.16949778]),\n",
              " array([ 1.12688525, -0.2666743 ]),\n",
              " array([ 1.15501888, -0.34133181]),\n",
              " array([ 1.16141666, -0.39216583]),\n",
              " array([ 1.14829976, -0.41923376]),\n",
              " array([ 1.11797166, -0.42378827]),\n",
              " array([ 1.07276057, -0.40804304]),\n",
              " array([ 1.01497252, -0.37491687]),\n",
              " array([ 0.94685427, -0.32779017])]"
            ]
          },
          "metadata": {},
          "execution_count": 18
        }
      ]
    },
    {
      "cell_type": "markdown",
      "source": [
        "# Adam Implementation on Pytorch"
      ],
      "metadata": {
        "id": "neLdEbaPaLqu"
      }
    },
    {
      "cell_type": "code",
      "source": [
        "import torch\n",
        "from torch import nn\n",
        "import torch.optim as optim\n",
        "from torch.utils.data import Dataset, DataLoader\n",
        "import torchvision\n",
        "from torchvision.datasets import FashionMNIST\n",
        "import torchvision.transforms as transforms\n",
        "import numpy as np\n",
        "device = torch.device('cuda:0' if torch.cuda.is_available() else 'cpu')\n",
        "torch.manual_seed(42)"
      ],
      "metadata": {
        "colab": {
          "base_uri": "https://localhost:8080/"
        },
        "id": "ITN1MDZbaQqO",
        "outputId": "20f5b664-e77e-4e27-fe22-5a8e83566f60"
      },
      "execution_count": 19,
      "outputs": [
        {
          "output_type": "execute_result",
          "data": {
            "text/plain": [
              "<torch._C.Generator at 0x7f4af9112150>"
            ]
          },
          "metadata": {},
          "execution_count": 19
        }
      ]
    },
    {
      "cell_type": "code",
      "source": [
        "batch_size = 512\n",
        "num_epochs = 300\n",
        "lr = 0.01"
      ],
      "metadata": {
        "id": "ingeFO2xadh9"
      },
      "execution_count": 20,
      "outputs": []
    },
    {
      "cell_type": "code",
      "source": [
        "train_dataset = FashionMNIST(root='./data', train=True, download=True, transform=transforms.ToTensor())\n",
        "train_loader = DataLoader(train_dataset, batch_size, shuffle=True)\n",
        "test_dataset = FashionMNIST(root='./data', train=False, download=True, transform=transforms.ToTensor())\n",
        "test_loader = DataLoader(test_dataset, batch_size)"
      ],
      "metadata": {
        "colab": {
          "base_uri": "https://localhost:8080/"
        },
        "id": "q_YKUIdsae2T",
        "outputId": "d0af35be-6c54-4984-a3c6-fc9833acf1c2"
      },
      "execution_count": 21,
      "outputs": [
        {
          "output_type": "stream",
          "name": "stdout",
          "text": [
            "Downloading http://fashion-mnist.s3-website.eu-central-1.amazonaws.com/train-images-idx3-ubyte.gz\n",
            "Downloading http://fashion-mnist.s3-website.eu-central-1.amazonaws.com/train-images-idx3-ubyte.gz to ./data/FashionMNIST/raw/train-images-idx3-ubyte.gz\n"
          ]
        },
        {
          "output_type": "stream",
          "name": "stderr",
          "text": [
            "100%|██████████| 26.4M/26.4M [00:01<00:00, 19.5MB/s]\n"
          ]
        },
        {
          "output_type": "stream",
          "name": "stdout",
          "text": [
            "Extracting ./data/FashionMNIST/raw/train-images-idx3-ubyte.gz to ./data/FashionMNIST/raw\n",
            "\n",
            "Downloading http://fashion-mnist.s3-website.eu-central-1.amazonaws.com/train-labels-idx1-ubyte.gz\n",
            "Downloading http://fashion-mnist.s3-website.eu-central-1.amazonaws.com/train-labels-idx1-ubyte.gz to ./data/FashionMNIST/raw/train-labels-idx1-ubyte.gz\n"
          ]
        },
        {
          "output_type": "stream",
          "name": "stderr",
          "text": [
            "100%|██████████| 29.5k/29.5k [00:00<00:00, 332kB/s]\n"
          ]
        },
        {
          "output_type": "stream",
          "name": "stdout",
          "text": [
            "Extracting ./data/FashionMNIST/raw/train-labels-idx1-ubyte.gz to ./data/FashionMNIST/raw\n",
            "\n",
            "Downloading http://fashion-mnist.s3-website.eu-central-1.amazonaws.com/t10k-images-idx3-ubyte.gz\n",
            "Downloading http://fashion-mnist.s3-website.eu-central-1.amazonaws.com/t10k-images-idx3-ubyte.gz to ./data/FashionMNIST/raw/t10k-images-idx3-ubyte.gz\n"
          ]
        },
        {
          "output_type": "stream",
          "name": "stderr",
          "text": [
            "100%|██████████| 4.42M/4.42M [00:00<00:00, 6.11MB/s]\n"
          ]
        },
        {
          "output_type": "stream",
          "name": "stdout",
          "text": [
            "Extracting ./data/FashionMNIST/raw/t10k-images-idx3-ubyte.gz to ./data/FashionMNIST/raw\n",
            "\n",
            "Downloading http://fashion-mnist.s3-website.eu-central-1.amazonaws.com/t10k-labels-idx1-ubyte.gz\n",
            "Downloading http://fashion-mnist.s3-website.eu-central-1.amazonaws.com/t10k-labels-idx1-ubyte.gz to ./data/FashionMNIST/raw/t10k-labels-idx1-ubyte.gz\n"
          ]
        },
        {
          "output_type": "stream",
          "name": "stderr",
          "text": [
            "100%|██████████| 5.15k/5.15k [00:00<00:00, 7.56MB/s]"
          ]
        },
        {
          "output_type": "stream",
          "name": "stdout",
          "text": [
            "Extracting ./data/FashionMNIST/raw/t10k-labels-idx1-ubyte.gz to ./data/FashionMNIST/raw\n",
            "\n"
          ]
        },
        {
          "output_type": "stream",
          "name": "stderr",
          "text": [
            "\n"
          ]
        }
      ]
    },
    {
      "cell_type": "code",
      "source": [
        "class MLP(nn.Module):\n",
        "    def __init__(self, input_dims, hidden_dims, output_dims):\n",
        "        super(MLP, self).__init__()\n",
        "        self.layer1 = nn.Linear(input_dims, hidden_dims)\n",
        "        self.layer2 = nn.Linear(hidden_dims, hidden_dims)\n",
        "        self.layer3 = nn.Linear(hidden_dims, hidden_dims)\n",
        "        self.layer4 = nn.Linear(hidden_dims, hidden_dims)\n",
        "        self.layer5 = nn.Linear(hidden_dims, hidden_dims)\n",
        "        self.output = nn.Linear(hidden_dims, output_dims)\n",
        "        self.sigmoid = nn.Sigmoid()\n",
        "\n",
        "    def forward(self, x):\n",
        "        x = nn.Flatten()(x)\n",
        "        x = self.layer1(x)\n",
        "        x = self.sigmoid(x)\n",
        "        x = self.layer2(x)\n",
        "        x = self.sigmoid(x)\n",
        "        x = self.layer3(x)\n",
        "        x = self.sigmoid(x)\n",
        "        x = self.layer4(x)\n",
        "        x = self.sigmoid(x)\n",
        "        x = self.layer5(x)\n",
        "        x = self.sigmoid(x)\n",
        "        out = self.output(x)\n",
        "        return out"
      ],
      "metadata": {
        "id": "WcyrQI-obguW"
      },
      "execution_count": 22,
      "outputs": []
    },
    {
      "cell_type": "code",
      "source": [
        "model = MLP(input_dims=784, hidden_dims=128, output_dims=10).to(device)\n",
        "criterion = nn.CrossEntropyLoss()\n",
        "################## YOUR CODE HERE ##################\n",
        "\"\"\"Cấu hình optimizer theo yêu cầu đề bài\"\"\"\n",
        "optimizer = optim.Adam(params=model.parameters(), lr=0.001)\n",
        "####################################################"
      ],
      "metadata": {
        "id": "DTIa_RI7bkBQ"
      },
      "execution_count": 23,
      "outputs": []
    },
    {
      "cell_type": "code",
      "source": [
        "train_losses = []\n",
        "train_acc = []\n",
        "val_losses = []\n",
        "val_acc = []\n",
        "for epoch in range(num_epochs):\n",
        "    model.train()\n",
        "    t_loss = 0\n",
        "    t_acc = 0\n",
        "    cnt = 0\n",
        "    for X, y in train_loader:\n",
        "        X, y = X.to(device), y.to(device)\n",
        "        optimizer.zero_grad()\n",
        "        outputs = model(X)\n",
        "        loss = criterion(outputs, y)\n",
        "        loss.backward()\n",
        "        optimizer.step()\n",
        "        t_loss += loss.item()\n",
        "        t_acc += (torch.argmax(outputs, 1) == y).sum().item()\n",
        "        cnt += len(y)\n",
        "    t_loss /= len(train_loader)\n",
        "    train_losses.append(t_loss)\n",
        "    t_acc /= cnt\n",
        "    train_acc.append(t_acc)\n",
        "\n",
        "    model.eval()\n",
        "    v_loss = 0\n",
        "    v_acc = 0\n",
        "    cnt = 0\n",
        "    with torch.no_grad():\n",
        "        for X, y in test_loader:\n",
        "            X, y = X.to(device), y.to(device)\n",
        "            outputs = model(X)\n",
        "            loss = criterion(outputs, y)\n",
        "            v_loss += loss.item()\n",
        "            v_acc += (torch.argmax(outputs, 1)==y).sum().item()\n",
        "            cnt += len(y)\n",
        "    v_loss /= len(test_loader)\n",
        "    val_losses.append(v_loss)\n",
        "    v_acc /= cnt\n",
        "    val_acc.append(v_acc)\n",
        "    print(f\"Epoch {epoch+1}/{num_epochs}, Train_Loss: {t_loss:.4f}, Train_Acc: {t_acc:.4f}, Validation Loss: {v_loss:.4f}, Val_Acc: {v_acc:.4f}\")"
      ],
      "metadata": {
        "colab": {
          "base_uri": "https://localhost:8080/"
        },
        "id": "TFu7E4rFbtc6",
        "outputId": "0db0ddee-b33e-477a-aaff-3013c0ec3ad6"
      },
      "execution_count": 24,
      "outputs": [
        {
          "output_type": "stream",
          "name": "stdout",
          "text": [
            "Epoch 1/300, Train_Loss: 2.0233, Train_Acc: 0.1613, Validation Loss: 1.6895, Val_Acc: 0.1999\n",
            "Epoch 2/300, Train_Loss: 1.5800, Train_Acc: 0.2655, Validation Loss: 1.4563, Val_Acc: 0.3730\n",
            "Epoch 3/300, Train_Loss: 1.2253, Train_Acc: 0.4554, Validation Loss: 1.0929, Val_Acc: 0.5223\n",
            "Epoch 4/300, Train_Loss: 0.9613, Train_Acc: 0.5902, Validation Loss: 0.8670, Val_Acc: 0.6651\n",
            "Epoch 5/300, Train_Loss: 0.8068, Train_Acc: 0.6762, Validation Loss: 0.7778, Val_Acc: 0.6903\n",
            "Epoch 6/300, Train_Loss: 0.7159, Train_Acc: 0.7368, Validation Loss: 0.6908, Val_Acc: 0.7676\n",
            "Epoch 7/300, Train_Loss: 0.6423, Train_Acc: 0.7799, Validation Loss: 0.6395, Val_Acc: 0.7844\n",
            "Epoch 8/300, Train_Loss: 0.5863, Train_Acc: 0.7973, Validation Loss: 0.5999, Val_Acc: 0.7959\n",
            "Epoch 9/300, Train_Loss: 0.5442, Train_Acc: 0.8085, Validation Loss: 0.5674, Val_Acc: 0.8003\n",
            "Epoch 10/300, Train_Loss: 0.5118, Train_Acc: 0.8161, Validation Loss: 0.5392, Val_Acc: 0.8072\n",
            "Epoch 11/300, Train_Loss: 0.4869, Train_Acc: 0.8236, Validation Loss: 0.5183, Val_Acc: 0.8114\n",
            "Epoch 12/300, Train_Loss: 0.4628, Train_Acc: 0.8335, Validation Loss: 0.5295, Val_Acc: 0.8146\n",
            "Epoch 13/300, Train_Loss: 0.4413, Train_Acc: 0.8497, Validation Loss: 0.4966, Val_Acc: 0.8358\n",
            "Epoch 14/300, Train_Loss: 0.4203, Train_Acc: 0.8601, Validation Loss: 0.4658, Val_Acc: 0.8428\n",
            "Epoch 15/300, Train_Loss: 0.3999, Train_Acc: 0.8682, Validation Loss: 0.4692, Val_Acc: 0.8422\n",
            "Epoch 16/300, Train_Loss: 0.3812, Train_Acc: 0.8746, Validation Loss: 0.4690, Val_Acc: 0.8418\n",
            "Epoch 17/300, Train_Loss: 0.3660, Train_Acc: 0.8797, Validation Loss: 0.4263, Val_Acc: 0.8588\n",
            "Epoch 18/300, Train_Loss: 0.3584, Train_Acc: 0.8811, Validation Loss: 0.4218, Val_Acc: 0.8593\n",
            "Epoch 19/300, Train_Loss: 0.3429, Train_Acc: 0.8854, Validation Loss: 0.4170, Val_Acc: 0.8610\n",
            "Epoch 20/300, Train_Loss: 0.3418, Train_Acc: 0.8852, Validation Loss: 0.4130, Val_Acc: 0.8645\n",
            "Epoch 21/300, Train_Loss: 0.3288, Train_Acc: 0.8907, Validation Loss: 0.4247, Val_Acc: 0.8592\n",
            "Epoch 22/300, Train_Loss: 0.3218, Train_Acc: 0.8929, Validation Loss: 0.4273, Val_Acc: 0.8606\n",
            "Epoch 23/300, Train_Loss: 0.3125, Train_Acc: 0.8962, Validation Loss: 0.4127, Val_Acc: 0.8621\n",
            "Epoch 24/300, Train_Loss: 0.3091, Train_Acc: 0.8972, Validation Loss: 0.4045, Val_Acc: 0.8649\n",
            "Epoch 25/300, Train_Loss: 0.3059, Train_Acc: 0.8979, Validation Loss: 0.4186, Val_Acc: 0.8597\n",
            "Epoch 26/300, Train_Loss: 0.2991, Train_Acc: 0.8997, Validation Loss: 0.4049, Val_Acc: 0.8669\n",
            "Epoch 27/300, Train_Loss: 0.2960, Train_Acc: 0.9010, Validation Loss: 0.4354, Val_Acc: 0.8550\n",
            "Epoch 28/300, Train_Loss: 0.2870, Train_Acc: 0.9047, Validation Loss: 0.3964, Val_Acc: 0.8692\n",
            "Epoch 29/300, Train_Loss: 0.2837, Train_Acc: 0.9044, Validation Loss: 0.4112, Val_Acc: 0.8612\n",
            "Epoch 30/300, Train_Loss: 0.2754, Train_Acc: 0.9087, Validation Loss: 0.4054, Val_Acc: 0.8654\n",
            "Epoch 31/300, Train_Loss: 0.2784, Train_Acc: 0.9064, Validation Loss: 0.4115, Val_Acc: 0.8617\n",
            "Epoch 32/300, Train_Loss: 0.2731, Train_Acc: 0.9089, Validation Loss: 0.4013, Val_Acc: 0.8698\n",
            "Epoch 33/300, Train_Loss: 0.2665, Train_Acc: 0.9109, Validation Loss: 0.4409, Val_Acc: 0.8567\n",
            "Epoch 34/300, Train_Loss: 0.2682, Train_Acc: 0.9103, Validation Loss: 0.3980, Val_Acc: 0.8715\n",
            "Epoch 35/300, Train_Loss: 0.2637, Train_Acc: 0.9127, Validation Loss: 0.3963, Val_Acc: 0.8718\n",
            "Epoch 36/300, Train_Loss: 0.2546, Train_Acc: 0.9155, Validation Loss: 0.4047, Val_Acc: 0.8689\n",
            "Epoch 37/300, Train_Loss: 0.2525, Train_Acc: 0.9158, Validation Loss: 0.4184, Val_Acc: 0.8640\n",
            "Epoch 38/300, Train_Loss: 0.2554, Train_Acc: 0.9143, Validation Loss: 0.4257, Val_Acc: 0.8622\n",
            "Epoch 39/300, Train_Loss: 0.2540, Train_Acc: 0.9144, Validation Loss: 0.4058, Val_Acc: 0.8665\n",
            "Epoch 40/300, Train_Loss: 0.2491, Train_Acc: 0.9166, Validation Loss: 0.4134, Val_Acc: 0.8644\n",
            "Epoch 41/300, Train_Loss: 0.2430, Train_Acc: 0.9197, Validation Loss: 0.4118, Val_Acc: 0.8655\n",
            "Epoch 42/300, Train_Loss: 0.2379, Train_Acc: 0.9207, Validation Loss: 0.4322, Val_Acc: 0.8604\n",
            "Epoch 43/300, Train_Loss: 0.2376, Train_Acc: 0.9204, Validation Loss: 0.4149, Val_Acc: 0.8655\n",
            "Epoch 44/300, Train_Loss: 0.2311, Train_Acc: 0.9233, Validation Loss: 0.3983, Val_Acc: 0.8709\n",
            "Epoch 45/300, Train_Loss: 0.2258, Train_Acc: 0.9261, Validation Loss: 0.3994, Val_Acc: 0.8713\n",
            "Epoch 46/300, Train_Loss: 0.2274, Train_Acc: 0.9240, Validation Loss: 0.4152, Val_Acc: 0.8678\n",
            "Epoch 47/300, Train_Loss: 0.2238, Train_Acc: 0.9259, Validation Loss: 0.3987, Val_Acc: 0.8753\n",
            "Epoch 48/300, Train_Loss: 0.2197, Train_Acc: 0.9269, Validation Loss: 0.4250, Val_Acc: 0.8631\n",
            "Epoch 49/300, Train_Loss: 0.2201, Train_Acc: 0.9281, Validation Loss: 0.4111, Val_Acc: 0.8680\n",
            "Epoch 50/300, Train_Loss: 0.2187, Train_Acc: 0.9281, Validation Loss: 0.4034, Val_Acc: 0.8702\n",
            "Epoch 51/300, Train_Loss: 0.2154, Train_Acc: 0.9283, Validation Loss: 0.4172, Val_Acc: 0.8701\n",
            "Epoch 52/300, Train_Loss: 0.2124, Train_Acc: 0.9299, Validation Loss: 0.4209, Val_Acc: 0.8701\n",
            "Epoch 53/300, Train_Loss: 0.2122, Train_Acc: 0.9298, Validation Loss: 0.4061, Val_Acc: 0.8718\n",
            "Epoch 54/300, Train_Loss: 0.2051, Train_Acc: 0.9323, Validation Loss: 0.4071, Val_Acc: 0.8722\n",
            "Epoch 55/300, Train_Loss: 0.2049, Train_Acc: 0.9324, Validation Loss: 0.4159, Val_Acc: 0.8711\n",
            "Epoch 56/300, Train_Loss: 0.2077, Train_Acc: 0.9305, Validation Loss: 0.4405, Val_Acc: 0.8629\n",
            "Epoch 57/300, Train_Loss: 0.2042, Train_Acc: 0.9322, Validation Loss: 0.4314, Val_Acc: 0.8635\n",
            "Epoch 58/300, Train_Loss: 0.1966, Train_Acc: 0.9346, Validation Loss: 0.4264, Val_Acc: 0.8684\n",
            "Epoch 59/300, Train_Loss: 0.1941, Train_Acc: 0.9362, Validation Loss: 0.4288, Val_Acc: 0.8681\n",
            "Epoch 60/300, Train_Loss: 0.1920, Train_Acc: 0.9371, Validation Loss: 0.4281, Val_Acc: 0.8695\n",
            "Epoch 61/300, Train_Loss: 0.1930, Train_Acc: 0.9362, Validation Loss: 0.4292, Val_Acc: 0.8710\n",
            "Epoch 62/300, Train_Loss: 0.1906, Train_Acc: 0.9365, Validation Loss: 0.4199, Val_Acc: 0.8742\n",
            "Epoch 63/300, Train_Loss: 0.1894, Train_Acc: 0.9374, Validation Loss: 0.4156, Val_Acc: 0.8735\n",
            "Epoch 64/300, Train_Loss: 0.1837, Train_Acc: 0.9395, Validation Loss: 0.4222, Val_Acc: 0.8717\n",
            "Epoch 65/300, Train_Loss: 0.1787, Train_Acc: 0.9417, Validation Loss: 0.4324, Val_Acc: 0.8718\n",
            "Epoch 66/300, Train_Loss: 0.1852, Train_Acc: 0.9390, Validation Loss: 0.4320, Val_Acc: 0.8696\n",
            "Epoch 67/300, Train_Loss: 0.1850, Train_Acc: 0.9392, Validation Loss: 0.4222, Val_Acc: 0.8721\n",
            "Epoch 68/300, Train_Loss: 0.1821, Train_Acc: 0.9402, Validation Loss: 0.4503, Val_Acc: 0.8640\n",
            "Epoch 69/300, Train_Loss: 0.1753, Train_Acc: 0.9424, Validation Loss: 0.4193, Val_Acc: 0.8750\n",
            "Epoch 70/300, Train_Loss: 0.1739, Train_Acc: 0.9432, Validation Loss: 0.4394, Val_Acc: 0.8701\n",
            "Epoch 71/300, Train_Loss: 0.1748, Train_Acc: 0.9427, Validation Loss: 0.4544, Val_Acc: 0.8637\n",
            "Epoch 72/300, Train_Loss: 0.1709, Train_Acc: 0.9439, Validation Loss: 0.4386, Val_Acc: 0.8715\n",
            "Epoch 73/300, Train_Loss: 0.1718, Train_Acc: 0.9435, Validation Loss: 0.4399, Val_Acc: 0.8727\n",
            "Epoch 74/300, Train_Loss: 0.1637, Train_Acc: 0.9480, Validation Loss: 0.4494, Val_Acc: 0.8701\n",
            "Epoch 75/300, Train_Loss: 0.1647, Train_Acc: 0.9466, Validation Loss: 0.4319, Val_Acc: 0.8730\n",
            "Epoch 76/300, Train_Loss: 0.1644, Train_Acc: 0.9463, Validation Loss: 0.4322, Val_Acc: 0.8720\n",
            "Epoch 77/300, Train_Loss: 0.1619, Train_Acc: 0.9469, Validation Loss: 0.4565, Val_Acc: 0.8688\n",
            "Epoch 78/300, Train_Loss: 0.1636, Train_Acc: 0.9464, Validation Loss: 0.4403, Val_Acc: 0.8729\n",
            "Epoch 79/300, Train_Loss: 0.1628, Train_Acc: 0.9469, Validation Loss: 0.4441, Val_Acc: 0.8737\n",
            "Epoch 80/300, Train_Loss: 0.1665, Train_Acc: 0.9447, Validation Loss: 0.4803, Val_Acc: 0.8640\n",
            "Epoch 81/300, Train_Loss: 0.1638, Train_Acc: 0.9470, Validation Loss: 0.4487, Val_Acc: 0.8697\n",
            "Epoch 82/300, Train_Loss: 0.1573, Train_Acc: 0.9490, Validation Loss: 0.4488, Val_Acc: 0.8702\n",
            "Epoch 83/300, Train_Loss: 0.1584, Train_Acc: 0.9485, Validation Loss: 0.4408, Val_Acc: 0.8742\n",
            "Epoch 84/300, Train_Loss: 0.1518, Train_Acc: 0.9506, Validation Loss: 0.4359, Val_Acc: 0.8724\n",
            "Epoch 85/300, Train_Loss: 0.1505, Train_Acc: 0.9514, Validation Loss: 0.5006, Val_Acc: 0.8581\n",
            "Epoch 86/300, Train_Loss: 0.1486, Train_Acc: 0.9521, Validation Loss: 0.4672, Val_Acc: 0.8650\n",
            "Epoch 87/300, Train_Loss: 0.1490, Train_Acc: 0.9517, Validation Loss: 0.4653, Val_Acc: 0.8699\n",
            "Epoch 88/300, Train_Loss: 0.1449, Train_Acc: 0.9534, Validation Loss: 0.4452, Val_Acc: 0.8740\n",
            "Epoch 89/300, Train_Loss: 0.1571, Train_Acc: 0.9479, Validation Loss: 0.4938, Val_Acc: 0.8607\n",
            "Epoch 90/300, Train_Loss: 0.1477, Train_Acc: 0.9515, Validation Loss: 0.4639, Val_Acc: 0.8694\n",
            "Epoch 91/300, Train_Loss: 0.1451, Train_Acc: 0.9526, Validation Loss: 0.4543, Val_Acc: 0.8746\n",
            "Epoch 92/300, Train_Loss: 0.1505, Train_Acc: 0.9517, Validation Loss: 0.5084, Val_Acc: 0.8602\n",
            "Epoch 93/300, Train_Loss: 0.1445, Train_Acc: 0.9536, Validation Loss: 0.4571, Val_Acc: 0.8720\n",
            "Epoch 94/300, Train_Loss: 0.1365, Train_Acc: 0.9564, Validation Loss: 0.4641, Val_Acc: 0.8731\n",
            "Epoch 95/300, Train_Loss: 0.1404, Train_Acc: 0.9550, Validation Loss: 0.4969, Val_Acc: 0.8641\n",
            "Epoch 96/300, Train_Loss: 0.1373, Train_Acc: 0.9557, Validation Loss: 0.4643, Val_Acc: 0.8711\n",
            "Epoch 97/300, Train_Loss: 0.1325, Train_Acc: 0.9581, Validation Loss: 0.4996, Val_Acc: 0.8655\n",
            "Epoch 98/300, Train_Loss: 0.1419, Train_Acc: 0.9530, Validation Loss: 0.4731, Val_Acc: 0.8717\n",
            "Epoch 99/300, Train_Loss: 0.1305, Train_Acc: 0.9587, Validation Loss: 0.4745, Val_Acc: 0.8710\n",
            "Epoch 100/300, Train_Loss: 0.1310, Train_Acc: 0.9582, Validation Loss: 0.4723, Val_Acc: 0.8695\n",
            "Epoch 101/300, Train_Loss: 0.1363, Train_Acc: 0.9560, Validation Loss: 0.4736, Val_Acc: 0.8729\n",
            "Epoch 102/300, Train_Loss: 0.1359, Train_Acc: 0.9558, Validation Loss: 0.6228, Val_Acc: 0.8368\n",
            "Epoch 103/300, Train_Loss: 0.1484, Train_Acc: 0.9510, Validation Loss: 0.4654, Val_Acc: 0.8748\n",
            "Epoch 104/300, Train_Loss: 0.1259, Train_Acc: 0.9595, Validation Loss: 0.4915, Val_Acc: 0.8714\n",
            "Epoch 105/300, Train_Loss: 0.1239, Train_Acc: 0.9605, Validation Loss: 0.4984, Val_Acc: 0.8725\n",
            "Epoch 106/300, Train_Loss: 0.1290, Train_Acc: 0.9576, Validation Loss: 0.4955, Val_Acc: 0.8689\n",
            "Epoch 107/300, Train_Loss: 0.1377, Train_Acc: 0.9550, Validation Loss: 0.4725, Val_Acc: 0.8744\n",
            "Epoch 108/300, Train_Loss: 0.1247, Train_Acc: 0.9613, Validation Loss: 0.4749, Val_Acc: 0.8716\n",
            "Epoch 109/300, Train_Loss: 0.1318, Train_Acc: 0.9580, Validation Loss: 0.4821, Val_Acc: 0.8742\n",
            "Epoch 110/300, Train_Loss: 0.1201, Train_Acc: 0.9624, Validation Loss: 0.4844, Val_Acc: 0.8746\n",
            "Epoch 111/300, Train_Loss: 0.1286, Train_Acc: 0.9585, Validation Loss: 0.4824, Val_Acc: 0.8738\n",
            "Epoch 112/300, Train_Loss: 0.1201, Train_Acc: 0.9619, Validation Loss: 0.4996, Val_Acc: 0.8695\n",
            "Epoch 113/300, Train_Loss: 0.1199, Train_Acc: 0.9621, Validation Loss: 0.4749, Val_Acc: 0.8741\n",
            "Epoch 114/300, Train_Loss: 0.1238, Train_Acc: 0.9599, Validation Loss: 0.4951, Val_Acc: 0.8711\n",
            "Epoch 115/300, Train_Loss: 0.1236, Train_Acc: 0.9602, Validation Loss: 0.4890, Val_Acc: 0.8749\n",
            "Epoch 116/300, Train_Loss: 0.1124, Train_Acc: 0.9651, Validation Loss: 0.4996, Val_Acc: 0.8703\n",
            "Epoch 117/300, Train_Loss: 0.1181, Train_Acc: 0.9627, Validation Loss: 0.6136, Val_Acc: 0.8458\n",
            "Epoch 118/300, Train_Loss: 0.1257, Train_Acc: 0.9600, Validation Loss: 0.5061, Val_Acc: 0.8709\n",
            "Epoch 119/300, Train_Loss: 0.1221, Train_Acc: 0.9611, Validation Loss: 0.4869, Val_Acc: 0.8712\n",
            "Epoch 120/300, Train_Loss: 0.1108, Train_Acc: 0.9657, Validation Loss: 0.5049, Val_Acc: 0.8714\n",
            "Epoch 121/300, Train_Loss: 0.1130, Train_Acc: 0.9643, Validation Loss: 0.4898, Val_Acc: 0.8727\n",
            "Epoch 122/300, Train_Loss: 0.1134, Train_Acc: 0.9641, Validation Loss: 0.5456, Val_Acc: 0.8628\n",
            "Epoch 123/300, Train_Loss: 0.1118, Train_Acc: 0.9646, Validation Loss: 0.5109, Val_Acc: 0.8711\n",
            "Epoch 124/300, Train_Loss: 0.1139, Train_Acc: 0.9643, Validation Loss: 0.4903, Val_Acc: 0.8759\n",
            "Epoch 125/300, Train_Loss: 0.1096, Train_Acc: 0.9657, Validation Loss: 0.5468, Val_Acc: 0.8626\n",
            "Epoch 126/300, Train_Loss: 0.1152, Train_Acc: 0.9637, Validation Loss: 0.5511, Val_Acc: 0.8636\n",
            "Epoch 127/300, Train_Loss: 0.1121, Train_Acc: 0.9644, Validation Loss: 0.4911, Val_Acc: 0.8743\n",
            "Epoch 128/300, Train_Loss: 0.1058, Train_Acc: 0.9672, Validation Loss: 0.5174, Val_Acc: 0.8721\n",
            "Epoch 129/300, Train_Loss: 0.1038, Train_Acc: 0.9673, Validation Loss: 0.5040, Val_Acc: 0.8702\n",
            "Epoch 130/300, Train_Loss: 0.1009, Train_Acc: 0.9689, Validation Loss: 0.5332, Val_Acc: 0.8680\n",
            "Epoch 131/300, Train_Loss: 0.1096, Train_Acc: 0.9651, Validation Loss: 0.5349, Val_Acc: 0.8670\n",
            "Epoch 132/300, Train_Loss: 0.1003, Train_Acc: 0.9692, Validation Loss: 0.5114, Val_Acc: 0.8717\n",
            "Epoch 133/300, Train_Loss: 0.1031, Train_Acc: 0.9682, Validation Loss: 0.5067, Val_Acc: 0.8756\n",
            "Epoch 134/300, Train_Loss: 0.1127, Train_Acc: 0.9634, Validation Loss: 0.5140, Val_Acc: 0.8684\n",
            "Epoch 135/300, Train_Loss: 0.1056, Train_Acc: 0.9662, Validation Loss: 0.5154, Val_Acc: 0.8711\n",
            "Epoch 136/300, Train_Loss: 0.1067, Train_Acc: 0.9660, Validation Loss: 0.5292, Val_Acc: 0.8694\n",
            "Epoch 137/300, Train_Loss: 0.1005, Train_Acc: 0.9688, Validation Loss: 0.5255, Val_Acc: 0.8734\n",
            "Epoch 138/300, Train_Loss: 0.1017, Train_Acc: 0.9686, Validation Loss: 0.5298, Val_Acc: 0.8729\n",
            "Epoch 139/300, Train_Loss: 0.1005, Train_Acc: 0.9683, Validation Loss: 0.5544, Val_Acc: 0.8686\n",
            "Epoch 140/300, Train_Loss: 0.0986, Train_Acc: 0.9697, Validation Loss: 0.5100, Val_Acc: 0.8731\n",
            "Epoch 141/300, Train_Loss: 0.1000, Train_Acc: 0.9684, Validation Loss: 0.5378, Val_Acc: 0.8736\n",
            "Epoch 142/300, Train_Loss: 0.0923, Train_Acc: 0.9714, Validation Loss: 0.5219, Val_Acc: 0.8731\n",
            "Epoch 143/300, Train_Loss: 0.0967, Train_Acc: 0.9692, Validation Loss: 0.5193, Val_Acc: 0.8742\n",
            "Epoch 144/300, Train_Loss: 0.0900, Train_Acc: 0.9727, Validation Loss: 0.5444, Val_Acc: 0.8679\n",
            "Epoch 145/300, Train_Loss: 0.0956, Train_Acc: 0.9697, Validation Loss: 0.5395, Val_Acc: 0.8731\n",
            "Epoch 146/300, Train_Loss: 0.0955, Train_Acc: 0.9699, Validation Loss: 0.5540, Val_Acc: 0.8702\n",
            "Epoch 147/300, Train_Loss: 0.0930, Train_Acc: 0.9720, Validation Loss: 0.5165, Val_Acc: 0.8734\n",
            "Epoch 148/300, Train_Loss: 0.0929, Train_Acc: 0.9712, Validation Loss: 0.5418, Val_Acc: 0.8713\n",
            "Epoch 149/300, Train_Loss: 0.0941, Train_Acc: 0.9704, Validation Loss: 0.5527, Val_Acc: 0.8697\n",
            "Epoch 150/300, Train_Loss: 0.0901, Train_Acc: 0.9720, Validation Loss: 0.5388, Val_Acc: 0.8768\n",
            "Epoch 151/300, Train_Loss: 0.1057, Train_Acc: 0.9657, Validation Loss: 0.5397, Val_Acc: 0.8730\n",
            "Epoch 152/300, Train_Loss: 0.0884, Train_Acc: 0.9731, Validation Loss: 0.5601, Val_Acc: 0.8698\n",
            "Epoch 153/300, Train_Loss: 0.0961, Train_Acc: 0.9695, Validation Loss: 0.5337, Val_Acc: 0.8738\n",
            "Epoch 154/300, Train_Loss: 0.0915, Train_Acc: 0.9717, Validation Loss: 0.5488, Val_Acc: 0.8689\n",
            "Epoch 155/300, Train_Loss: 0.0901, Train_Acc: 0.9721, Validation Loss: 0.5375, Val_Acc: 0.8752\n",
            "Epoch 156/300, Train_Loss: 0.0904, Train_Acc: 0.9713, Validation Loss: 0.5529, Val_Acc: 0.8722\n",
            "Epoch 157/300, Train_Loss: 0.0859, Train_Acc: 0.9729, Validation Loss: 0.5529, Val_Acc: 0.8697\n",
            "Epoch 158/300, Train_Loss: 0.0879, Train_Acc: 0.9730, Validation Loss: 0.5720, Val_Acc: 0.8661\n",
            "Epoch 159/300, Train_Loss: 0.0913, Train_Acc: 0.9716, Validation Loss: 0.5572, Val_Acc: 0.8734\n",
            "Epoch 160/300, Train_Loss: 0.0878, Train_Acc: 0.9726, Validation Loss: 0.5837, Val_Acc: 0.8688\n",
            "Epoch 161/300, Train_Loss: 0.0842, Train_Acc: 0.9742, Validation Loss: 0.5501, Val_Acc: 0.8739\n",
            "Epoch 162/300, Train_Loss: 0.0822, Train_Acc: 0.9746, Validation Loss: 0.5563, Val_Acc: 0.8708\n",
            "Epoch 163/300, Train_Loss: 0.0819, Train_Acc: 0.9751, Validation Loss: 0.5606, Val_Acc: 0.8705\n",
            "Epoch 164/300, Train_Loss: 0.0781, Train_Acc: 0.9770, Validation Loss: 0.5708, Val_Acc: 0.8707\n",
            "Epoch 165/300, Train_Loss: 0.0919, Train_Acc: 0.9711, Validation Loss: 0.5489, Val_Acc: 0.8694\n",
            "Epoch 166/300, Train_Loss: 0.0834, Train_Acc: 0.9741, Validation Loss: 0.5790, Val_Acc: 0.8721\n",
            "Epoch 167/300, Train_Loss: 0.0821, Train_Acc: 0.9746, Validation Loss: 0.5669, Val_Acc: 0.8714\n",
            "Epoch 168/300, Train_Loss: 0.0814, Train_Acc: 0.9751, Validation Loss: 0.5747, Val_Acc: 0.8715\n",
            "Epoch 169/300, Train_Loss: 0.0834, Train_Acc: 0.9744, Validation Loss: 0.5670, Val_Acc: 0.8722\n",
            "Epoch 170/300, Train_Loss: 0.0864, Train_Acc: 0.9728, Validation Loss: 0.5879, Val_Acc: 0.8678\n",
            "Epoch 171/300, Train_Loss: 0.0790, Train_Acc: 0.9762, Validation Loss: 0.5871, Val_Acc: 0.8698\n",
            "Epoch 172/300, Train_Loss: 0.0840, Train_Acc: 0.9739, Validation Loss: 0.6138, Val_Acc: 0.8627\n",
            "Epoch 173/300, Train_Loss: 0.0932, Train_Acc: 0.9697, Validation Loss: 0.5638, Val_Acc: 0.8712\n",
            "Epoch 174/300, Train_Loss: 0.0762, Train_Acc: 0.9766, Validation Loss: 0.5754, Val_Acc: 0.8736\n",
            "Epoch 175/300, Train_Loss: 0.0730, Train_Acc: 0.9779, Validation Loss: 0.5663, Val_Acc: 0.8722\n",
            "Epoch 176/300, Train_Loss: 0.0742, Train_Acc: 0.9773, Validation Loss: 0.5708, Val_Acc: 0.8711\n",
            "Epoch 177/300, Train_Loss: 0.0782, Train_Acc: 0.9763, Validation Loss: 0.5764, Val_Acc: 0.8724\n",
            "Epoch 178/300, Train_Loss: 0.0767, Train_Acc: 0.9761, Validation Loss: 0.5805, Val_Acc: 0.8718\n",
            "Epoch 179/300, Train_Loss: 0.0794, Train_Acc: 0.9753, Validation Loss: 0.5850, Val_Acc: 0.8709\n",
            "Epoch 180/300, Train_Loss: 0.0875, Train_Acc: 0.9723, Validation Loss: 0.5653, Val_Acc: 0.8731\n",
            "Epoch 181/300, Train_Loss: 0.0732, Train_Acc: 0.9778, Validation Loss: 0.5767, Val_Acc: 0.8702\n",
            "Epoch 182/300, Train_Loss: 0.0756, Train_Acc: 0.9768, Validation Loss: 0.6591, Val_Acc: 0.8599\n",
            "Epoch 183/300, Train_Loss: 0.0850, Train_Acc: 0.9728, Validation Loss: 0.5887, Val_Acc: 0.8684\n",
            "Epoch 184/300, Train_Loss: 0.0721, Train_Acc: 0.9780, Validation Loss: 0.5782, Val_Acc: 0.8760\n",
            "Epoch 185/300, Train_Loss: 0.0742, Train_Acc: 0.9769, Validation Loss: 0.6203, Val_Acc: 0.8633\n",
            "Epoch 186/300, Train_Loss: 0.0728, Train_Acc: 0.9779, Validation Loss: 0.5862, Val_Acc: 0.8713\n",
            "Epoch 187/300, Train_Loss: 0.0748, Train_Acc: 0.9773, Validation Loss: 0.5821, Val_Acc: 0.8738\n",
            "Epoch 188/300, Train_Loss: 0.0680, Train_Acc: 0.9797, Validation Loss: 0.5940, Val_Acc: 0.8688\n",
            "Epoch 189/300, Train_Loss: 0.0763, Train_Acc: 0.9765, Validation Loss: 0.5853, Val_Acc: 0.8704\n",
            "Epoch 190/300, Train_Loss: 0.0797, Train_Acc: 0.9756, Validation Loss: 0.5601, Val_Acc: 0.8740\n",
            "Epoch 191/300, Train_Loss: 0.0644, Train_Acc: 0.9809, Validation Loss: 0.5945, Val_Acc: 0.8702\n",
            "Epoch 192/300, Train_Loss: 0.0685, Train_Acc: 0.9788, Validation Loss: 0.5964, Val_Acc: 0.8720\n",
            "Epoch 193/300, Train_Loss: 0.0677, Train_Acc: 0.9797, Validation Loss: 0.5990, Val_Acc: 0.8722\n",
            "Epoch 194/300, Train_Loss: 0.0668, Train_Acc: 0.9798, Validation Loss: 0.6365, Val_Acc: 0.8639\n",
            "Epoch 195/300, Train_Loss: 0.0730, Train_Acc: 0.9776, Validation Loss: 0.6081, Val_Acc: 0.8704\n",
            "Epoch 196/300, Train_Loss: 0.0676, Train_Acc: 0.9795, Validation Loss: 0.6162, Val_Acc: 0.8728\n",
            "Epoch 197/300, Train_Loss: 0.0843, Train_Acc: 0.9737, Validation Loss: 0.6020, Val_Acc: 0.8688\n",
            "Epoch 198/300, Train_Loss: 0.0783, Train_Acc: 0.9758, Validation Loss: 0.5969, Val_Acc: 0.8694\n",
            "Epoch 199/300, Train_Loss: 0.0685, Train_Acc: 0.9789, Validation Loss: 0.6139, Val_Acc: 0.8735\n",
            "Epoch 200/300, Train_Loss: 0.0683, Train_Acc: 0.9792, Validation Loss: 0.6253, Val_Acc: 0.8704\n",
            "Epoch 201/300, Train_Loss: 0.0688, Train_Acc: 0.9788, Validation Loss: 0.6075, Val_Acc: 0.8727\n",
            "Epoch 202/300, Train_Loss: 0.1000, Train_Acc: 0.9674, Validation Loss: 0.5789, Val_Acc: 0.8726\n",
            "Epoch 203/300, Train_Loss: 0.0682, Train_Acc: 0.9788, Validation Loss: 0.6019, Val_Acc: 0.8709\n",
            "Epoch 204/300, Train_Loss: 0.0598, Train_Acc: 0.9824, Validation Loss: 0.6156, Val_Acc: 0.8711\n",
            "Epoch 205/300, Train_Loss: 0.0607, Train_Acc: 0.9821, Validation Loss: 0.6044, Val_Acc: 0.8716\n",
            "Epoch 206/300, Train_Loss: 0.0592, Train_Acc: 0.9829, Validation Loss: 0.6102, Val_Acc: 0.8684\n",
            "Epoch 207/300, Train_Loss: 0.0659, Train_Acc: 0.9803, Validation Loss: 0.6455, Val_Acc: 0.8718\n",
            "Epoch 208/300, Train_Loss: 0.0621, Train_Acc: 0.9806, Validation Loss: 0.6236, Val_Acc: 0.8721\n",
            "Epoch 209/300, Train_Loss: 0.0621, Train_Acc: 0.9810, Validation Loss: 0.6045, Val_Acc: 0.8756\n",
            "Epoch 210/300, Train_Loss: 0.0627, Train_Acc: 0.9813, Validation Loss: 0.6168, Val_Acc: 0.8677\n",
            "Epoch 211/300, Train_Loss: 0.0621, Train_Acc: 0.9815, Validation Loss: 0.6174, Val_Acc: 0.8705\n",
            "Epoch 212/300, Train_Loss: 0.0647, Train_Acc: 0.9804, Validation Loss: 0.6458, Val_Acc: 0.8690\n",
            "Epoch 213/300, Train_Loss: 0.0684, Train_Acc: 0.9788, Validation Loss: 0.6124, Val_Acc: 0.8718\n",
            "Epoch 214/300, Train_Loss: 0.0725, Train_Acc: 0.9774, Validation Loss: 0.6105, Val_Acc: 0.8725\n",
            "Epoch 215/300, Train_Loss: 0.0621, Train_Acc: 0.9811, Validation Loss: 0.6227, Val_Acc: 0.8727\n",
            "Epoch 216/300, Train_Loss: 0.0615, Train_Acc: 0.9815, Validation Loss: 0.6265, Val_Acc: 0.8682\n",
            "Epoch 217/300, Train_Loss: 0.0709, Train_Acc: 0.9775, Validation Loss: 0.6323, Val_Acc: 0.8673\n",
            "Epoch 218/300, Train_Loss: 0.0585, Train_Acc: 0.9825, Validation Loss: 0.6271, Val_Acc: 0.8696\n",
            "Epoch 219/300, Train_Loss: 0.0609, Train_Acc: 0.9812, Validation Loss: 0.6470, Val_Acc: 0.8685\n",
            "Epoch 220/300, Train_Loss: 0.0733, Train_Acc: 0.9767, Validation Loss: 0.6499, Val_Acc: 0.8663\n",
            "Epoch 221/300, Train_Loss: 0.0933, Train_Acc: 0.9707, Validation Loss: 0.5885, Val_Acc: 0.8730\n",
            "Epoch 222/300, Train_Loss: 0.0532, Train_Acc: 0.9845, Validation Loss: 0.6157, Val_Acc: 0.8728\n",
            "Epoch 223/300, Train_Loss: 0.0528, Train_Acc: 0.9848, Validation Loss: 0.6239, Val_Acc: 0.8722\n",
            "Epoch 224/300, Train_Loss: 0.0666, Train_Acc: 0.9795, Validation Loss: 0.6128, Val_Acc: 0.8741\n",
            "Epoch 225/300, Train_Loss: 0.0684, Train_Acc: 0.9790, Validation Loss: 0.6113, Val_Acc: 0.8728\n",
            "Epoch 226/300, Train_Loss: 0.0613, Train_Acc: 0.9809, Validation Loss: 0.6217, Val_Acc: 0.8729\n",
            "Epoch 227/300, Train_Loss: 0.0564, Train_Acc: 0.9833, Validation Loss: 0.6322, Val_Acc: 0.8731\n",
            "Epoch 228/300, Train_Loss: 0.0558, Train_Acc: 0.9837, Validation Loss: 0.6282, Val_Acc: 0.8711\n",
            "Epoch 229/300, Train_Loss: 0.0615, Train_Acc: 0.9807, Validation Loss: 0.6446, Val_Acc: 0.8693\n",
            "Epoch 230/300, Train_Loss: 0.0621, Train_Acc: 0.9808, Validation Loss: 0.6471, Val_Acc: 0.8683\n",
            "Epoch 231/300, Train_Loss: 0.0641, Train_Acc: 0.9802, Validation Loss: 0.6428, Val_Acc: 0.8688\n",
            "Epoch 232/300, Train_Loss: 0.0633, Train_Acc: 0.9806, Validation Loss: 0.6309, Val_Acc: 0.8719\n",
            "Epoch 233/300, Train_Loss: 0.0580, Train_Acc: 0.9819, Validation Loss: 0.6373, Val_Acc: 0.8705\n",
            "Epoch 234/300, Train_Loss: 0.0547, Train_Acc: 0.9839, Validation Loss: 0.6598, Val_Acc: 0.8695\n",
            "Epoch 235/300, Train_Loss: 0.0548, Train_Acc: 0.9833, Validation Loss: 0.6619, Val_Acc: 0.8700\n",
            "Epoch 236/300, Train_Loss: 0.0536, Train_Acc: 0.9843, Validation Loss: 0.6724, Val_Acc: 0.8693\n",
            "Epoch 237/300, Train_Loss: 0.0544, Train_Acc: 0.9835, Validation Loss: 0.7061, Val_Acc: 0.8596\n",
            "Epoch 238/300, Train_Loss: 0.0800, Train_Acc: 0.9745, Validation Loss: 0.6504, Val_Acc: 0.8683\n",
            "Epoch 239/300, Train_Loss: 0.0634, Train_Acc: 0.9806, Validation Loss: 0.6349, Val_Acc: 0.8744\n",
            "Epoch 240/300, Train_Loss: 0.0511, Train_Acc: 0.9852, Validation Loss: 0.6360, Val_Acc: 0.8698\n",
            "Epoch 241/300, Train_Loss: 0.0528, Train_Acc: 0.9841, Validation Loss: 0.6791, Val_Acc: 0.8656\n",
            "Epoch 242/300, Train_Loss: 0.0539, Train_Acc: 0.9839, Validation Loss: 0.6799, Val_Acc: 0.8664\n",
            "Epoch 243/300, Train_Loss: 0.0525, Train_Acc: 0.9844, Validation Loss: 0.6743, Val_Acc: 0.8677\n",
            "Epoch 244/300, Train_Loss: 0.0537, Train_Acc: 0.9839, Validation Loss: 0.6542, Val_Acc: 0.8694\n",
            "Epoch 245/300, Train_Loss: 0.0510, Train_Acc: 0.9852, Validation Loss: 0.6738, Val_Acc: 0.8684\n",
            "Epoch 246/300, Train_Loss: 0.0656, Train_Acc: 0.9799, Validation Loss: 0.6885, Val_Acc: 0.8693\n",
            "Epoch 247/300, Train_Loss: 0.0507, Train_Acc: 0.9852, Validation Loss: 0.6905, Val_Acc: 0.8674\n",
            "Epoch 248/300, Train_Loss: 0.0644, Train_Acc: 0.9795, Validation Loss: 0.6381, Val_Acc: 0.8738\n",
            "Epoch 249/300, Train_Loss: 0.0532, Train_Acc: 0.9838, Validation Loss: 0.6682, Val_Acc: 0.8711\n",
            "Epoch 250/300, Train_Loss: 0.0540, Train_Acc: 0.9840, Validation Loss: 0.6668, Val_Acc: 0.8680\n",
            "Epoch 251/300, Train_Loss: 0.0531, Train_Acc: 0.9839, Validation Loss: 0.6807, Val_Acc: 0.8691\n",
            "Epoch 252/300, Train_Loss: 0.0649, Train_Acc: 0.9798, Validation Loss: 0.6512, Val_Acc: 0.8727\n",
            "Epoch 253/300, Train_Loss: 0.0544, Train_Acc: 0.9838, Validation Loss: 0.6529, Val_Acc: 0.8728\n",
            "Epoch 254/300, Train_Loss: 0.0587, Train_Acc: 0.9820, Validation Loss: 0.6648, Val_Acc: 0.8692\n",
            "Epoch 255/300, Train_Loss: 0.0479, Train_Acc: 0.9857, Validation Loss: 0.6667, Val_Acc: 0.8705\n",
            "Epoch 256/300, Train_Loss: 0.0579, Train_Acc: 0.9826, Validation Loss: 0.7061, Val_Acc: 0.8668\n",
            "Epoch 257/300, Train_Loss: 0.0734, Train_Acc: 0.9771, Validation Loss: 0.6424, Val_Acc: 0.8693\n",
            "Epoch 258/300, Train_Loss: 0.0465, Train_Acc: 0.9866, Validation Loss: 0.6527, Val_Acc: 0.8732\n",
            "Epoch 259/300, Train_Loss: 0.0528, Train_Acc: 0.9842, Validation Loss: 0.6989, Val_Acc: 0.8639\n",
            "Epoch 260/300, Train_Loss: 0.0565, Train_Acc: 0.9824, Validation Loss: 0.6693, Val_Acc: 0.8641\n",
            "Epoch 261/300, Train_Loss: 0.0505, Train_Acc: 0.9842, Validation Loss: 0.6535, Val_Acc: 0.8712\n",
            "Epoch 262/300, Train_Loss: 0.0430, Train_Acc: 0.9878, Validation Loss: 0.6867, Val_Acc: 0.8702\n",
            "Epoch 263/300, Train_Loss: 0.0507, Train_Acc: 0.9847, Validation Loss: 0.6926, Val_Acc: 0.8678\n",
            "Epoch 264/300, Train_Loss: 0.0654, Train_Acc: 0.9800, Validation Loss: 0.7072, Val_Acc: 0.8653\n",
            "Epoch 265/300, Train_Loss: 0.0518, Train_Acc: 0.9842, Validation Loss: 0.6614, Val_Acc: 0.8720\n",
            "Epoch 266/300, Train_Loss: 0.0529, Train_Acc: 0.9841, Validation Loss: 0.6881, Val_Acc: 0.8653\n",
            "Epoch 267/300, Train_Loss: 0.0523, Train_Acc: 0.9841, Validation Loss: 0.8103, Val_Acc: 0.8469\n",
            "Epoch 268/300, Train_Loss: 0.0714, Train_Acc: 0.9778, Validation Loss: 0.6558, Val_Acc: 0.8723\n",
            "Epoch 269/300, Train_Loss: 0.0457, Train_Acc: 0.9864, Validation Loss: 0.6599, Val_Acc: 0.8691\n",
            "Epoch 270/300, Train_Loss: 0.0429, Train_Acc: 0.9875, Validation Loss: 0.6878, Val_Acc: 0.8680\n",
            "Epoch 271/300, Train_Loss: 0.0489, Train_Acc: 0.9857, Validation Loss: 0.6715, Val_Acc: 0.8723\n",
            "Epoch 272/300, Train_Loss: 0.0598, Train_Acc: 0.9819, Validation Loss: 0.6821, Val_Acc: 0.8692\n",
            "Epoch 273/300, Train_Loss: 0.0438, Train_Acc: 0.9870, Validation Loss: 0.6978, Val_Acc: 0.8682\n",
            "Epoch 274/300, Train_Loss: 0.0505, Train_Acc: 0.9846, Validation Loss: 0.6946, Val_Acc: 0.8687\n",
            "Epoch 275/300, Train_Loss: 0.0420, Train_Acc: 0.9876, Validation Loss: 0.6867, Val_Acc: 0.8697\n",
            "Epoch 276/300, Train_Loss: 0.0418, Train_Acc: 0.9881, Validation Loss: 0.6810, Val_Acc: 0.8732\n",
            "Epoch 277/300, Train_Loss: 0.0551, Train_Acc: 0.9831, Validation Loss: 0.6963, Val_Acc: 0.8702\n",
            "Epoch 278/300, Train_Loss: 0.0433, Train_Acc: 0.9874, Validation Loss: 0.6855, Val_Acc: 0.8733\n",
            "Epoch 279/300, Train_Loss: 0.0522, Train_Acc: 0.9836, Validation Loss: 0.6848, Val_Acc: 0.8721\n",
            "Epoch 280/300, Train_Loss: 0.0483, Train_Acc: 0.9859, Validation Loss: 0.6925, Val_Acc: 0.8645\n",
            "Epoch 281/300, Train_Loss: 0.0565, Train_Acc: 0.9836, Validation Loss: 0.7040, Val_Acc: 0.8649\n",
            "Epoch 282/300, Train_Loss: 0.0770, Train_Acc: 0.9756, Validation Loss: 0.6462, Val_Acc: 0.8722\n",
            "Epoch 283/300, Train_Loss: 0.0396, Train_Acc: 0.9886, Validation Loss: 0.6832, Val_Acc: 0.8683\n",
            "Epoch 284/300, Train_Loss: 0.0427, Train_Acc: 0.9874, Validation Loss: 0.6926, Val_Acc: 0.8679\n",
            "Epoch 285/300, Train_Loss: 0.0549, Train_Acc: 0.9829, Validation Loss: 0.7461, Val_Acc: 0.8596\n",
            "Epoch 286/300, Train_Loss: 0.0499, Train_Acc: 0.9849, Validation Loss: 0.6837, Val_Acc: 0.8703\n",
            "Epoch 287/300, Train_Loss: 0.0426, Train_Acc: 0.9878, Validation Loss: 0.6928, Val_Acc: 0.8736\n",
            "Epoch 288/300, Train_Loss: 0.0438, Train_Acc: 0.9879, Validation Loss: 0.6841, Val_Acc: 0.8720\n",
            "Epoch 289/300, Train_Loss: 0.0495, Train_Acc: 0.9852, Validation Loss: 0.6813, Val_Acc: 0.8682\n",
            "Epoch 290/300, Train_Loss: 0.0466, Train_Acc: 0.9859, Validation Loss: 0.6970, Val_Acc: 0.8704\n",
            "Epoch 291/300, Train_Loss: 0.0506, Train_Acc: 0.9846, Validation Loss: 0.6946, Val_Acc: 0.8706\n",
            "Epoch 292/300, Train_Loss: 0.0446, Train_Acc: 0.9868, Validation Loss: 0.6908, Val_Acc: 0.8713\n",
            "Epoch 293/300, Train_Loss: 0.0420, Train_Acc: 0.9882, Validation Loss: 0.7906, Val_Acc: 0.8554\n",
            "Epoch 294/300, Train_Loss: 0.0463, Train_Acc: 0.9865, Validation Loss: 0.7005, Val_Acc: 0.8692\n",
            "Epoch 295/300, Train_Loss: 0.0419, Train_Acc: 0.9879, Validation Loss: 0.7215, Val_Acc: 0.8674\n",
            "Epoch 296/300, Train_Loss: 0.0444, Train_Acc: 0.9864, Validation Loss: 0.7182, Val_Acc: 0.8682\n",
            "Epoch 297/300, Train_Loss: 0.0661, Train_Acc: 0.9794, Validation Loss: 0.6989, Val_Acc: 0.8670\n",
            "Epoch 298/300, Train_Loss: 0.0503, Train_Acc: 0.9849, Validation Loss: 0.6944, Val_Acc: 0.8683\n",
            "Epoch 299/300, Train_Loss: 0.0399, Train_Acc: 0.9885, Validation Loss: 0.7210, Val_Acc: 0.8682\n",
            "Epoch 300/300, Train_Loss: 0.0430, Train_Acc: 0.9872, Validation Loss: 0.6915, Val_Acc: 0.8735\n"
          ]
        }
      ]
    },
    {
      "cell_type": "code",
      "source": [
        "import matplotlib.pyplot as plt\n",
        "\n",
        "plt.plot(train_losses, label='loss')\n",
        "plt.plot(val_losses, label='val_loss')\n",
        "plt.xlabel('iteration')\n",
        "plt.ylabel('loss')\n",
        "plt.legend();"
      ],
      "metadata": {
        "colab": {
          "base_uri": "https://localhost:8080/",
          "height": 449
        },
        "id": "QrkCH0trcAoJ",
        "outputId": "19e2d62d-9a3d-4489-e429-87e25b070f83"
      },
      "execution_count": 27,
      "outputs": [
        {
          "output_type": "display_data",
          "data": {
            "text/plain": [
              "<Figure size 640x480 with 1 Axes>"
            ],
            "image/png": "[encoded data removed]"
          },
          "metadata": {}
        }
      ]
    }
  ],
  "metadata": {
    "colab": {
      "provenance": [],
      "authorship_tag": "ABX9TyNXxD+pu5o0JzgC83xTaRE9",
      "include_colab_link": true
    },
    "kernelspec": {
      "display_name": "Python 3",
      "name": "python3"
    },
    "language_info": {
      "name": "python"
    }
  },
  "nbformat": 4,
  "nbformat_minor": 0
}