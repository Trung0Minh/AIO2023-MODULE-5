{
  "cells": [
    {
      "cell_type": "markdown",
      "metadata": {
        "id": "view-in-github",
        "colab_type": "text"
      },
      "source": [
        "<a href=\"https://colab.research.google.com/github/Trung0Minh/AIO2023-MODULE-5/blob/main/vanishing_gradient.ipynb\" target=\"_parent\"><img src=\"https://colab.research.google.com/assets/colab-badge.svg\" alt=\"Open In Colab\"/></a>"
      ]
    },
    {
      "cell_type": "markdown",
      "source": [
        "# Load Data"
      ],
      "metadata": {
        "id": "HGE0g-XSwFhl"
      }
    },
    {
      "cell_type": "code",
      "source": [
        "import torch\n",
        "from torch import nn\n",
        "import torch.optim as optim\n",
        "from torch.utils.data import Dataset, DataLoader\n",
        "import torchvision\n",
        "from torchvision.datasets import FashionMNIST\n",
        "import torchvision.transforms as transforms\n",
        "import numpy as np\n",
        "\n",
        "torch.manual_seed(42)\n",
        "device = torch.device('cuda:0' if torch.cuda.is_available() else 'cpu')"
      ],
      "metadata": {
        "id": "KpvQxH_TwHiL"
      },
      "execution_count": 1,
      "outputs": []
    },
    {
      "cell_type": "code",
      "source": [
        "batch_size = 512\n",
        "num_epochs = 300\n",
        "lr = 0.01"
      ],
      "metadata": {
        "id": "oaHJJfmOwJp7"
      },
      "execution_count": 2,
      "outputs": []
    },
    {
      "cell_type": "code",
      "source": [
        "train_dataset = FashionMNIST('./data', train=True, download=True, transform=transforms.ToTensor())\n",
        "train_loader = DataLoader(train_dataset, batch_size, shuffle=True)\n",
        "test_dataset = FashionMNIST('./data', train=False, download=True, transform=transforms.ToTensor())\n",
        "test_loader = DataLoader(test_dataset, batch_size)"
      ],
      "metadata": {
        "colab": {
          "base_uri": "https://localhost:8080/"
        },
        "id": "D2wdXWHpwO9Z",
        "outputId": "d26d06ca-39ef-45ae-a6e8-f34777886700"
      },
      "execution_count": 3,
      "outputs": [
        {
          "output_type": "stream",
          "name": "stdout",
          "text": [
            "Downloading http://fashion-mnist.s3-website.eu-central-1.amazonaws.com/train-images-idx3-ubyte.gz\n",
            "Downloading http://fashion-mnist.s3-website.eu-central-1.amazonaws.com/train-images-idx3-ubyte.gz to ./data/FashionMNIST/raw/train-images-idx3-ubyte.gz\n"
          ]
        },
        {
          "output_type": "stream",
          "name": "stderr",
          "text": [
            "100%|██████████| 26.4M/26.4M [00:02<00:00, 9.88MB/s]\n"
          ]
        },
        {
          "output_type": "stream",
          "name": "stdout",
          "text": [
            "Extracting ./data/FashionMNIST/raw/train-images-idx3-ubyte.gz to ./data/FashionMNIST/raw\n",
            "\n",
            "Downloading http://fashion-mnist.s3-website.eu-central-1.amazonaws.com/train-labels-idx1-ubyte.gz\n",
            "Downloading http://fashion-mnist.s3-website.eu-central-1.amazonaws.com/train-labels-idx1-ubyte.gz to ./data/FashionMNIST/raw/train-labels-idx1-ubyte.gz\n"
          ]
        },
        {
          "output_type": "stream",
          "name": "stderr",
          "text": [
            "100%|██████████| 29.5k/29.5k [00:00<00:00, 208kB/s]\n"
          ]
        },
        {
          "output_type": "stream",
          "name": "stdout",
          "text": [
            "Extracting ./data/FashionMNIST/raw/train-labels-idx1-ubyte.gz to ./data/FashionMNIST/raw\n",
            "\n",
            "Downloading http://fashion-mnist.s3-website.eu-central-1.amazonaws.com/t10k-images-idx3-ubyte.gz\n",
            "Downloading http://fashion-mnist.s3-website.eu-central-1.amazonaws.com/t10k-images-idx3-ubyte.gz to ./data/FashionMNIST/raw/t10k-images-idx3-ubyte.gz\n"
          ]
        },
        {
          "output_type": "stream",
          "name": "stderr",
          "text": [
            "100%|██████████| 4.42M/4.42M [00:01<00:00, 3.80MB/s]\n"
          ]
        },
        {
          "output_type": "stream",
          "name": "stdout",
          "text": [
            "Extracting ./data/FashionMNIST/raw/t10k-images-idx3-ubyte.gz to ./data/FashionMNIST/raw\n",
            "\n",
            "Downloading http://fashion-mnist.s3-website.eu-central-1.amazonaws.com/t10k-labels-idx1-ubyte.gz\n",
            "Downloading http://fashion-mnist.s3-website.eu-central-1.amazonaws.com/t10k-labels-idx1-ubyte.gz to ./data/FashionMNIST/raw/t10k-labels-idx1-ubyte.gz\n"
          ]
        },
        {
          "output_type": "stream",
          "name": "stderr",
          "text": [
            "100%|██████████| 5.15k/5.15k [00:00<00:00, 27.5MB/s]"
          ]
        },
        {
          "output_type": "stream",
          "name": "stdout",
          "text": [
            "Extracting ./data/FashionMNIST/raw/t10k-labels-idx1-ubyte.gz to ./data/FashionMNIST/raw\n",
            "\n"
          ]
        },
        {
          "output_type": "stream",
          "name": "stderr",
          "text": [
            "\n"
          ]
        }
      ]
    },
    {
      "cell_type": "markdown",
      "source": [
        "--------------------------------------------------------------------------------"
      ],
      "metadata": {
        "id": "ci0zJ8SL5_dI"
      }
    },
    {
      "cell_type": "markdown",
      "source": [
        "# Weight Increasing"
      ],
      "metadata": {
        "id": "GzXvfVqBwAba"
      }
    },
    {
      "cell_type": "code",
      "source": [
        "class MLP(nn.Module):\n",
        "    def __init__(self, input_dims, hidden_dims, output_dims):\n",
        "        super().__init__()\n",
        "        self.layers = nn.Sequential(\n",
        "            nn.Flatten(),\n",
        "            nn.Linear(input_dims, hidden_dims),\n",
        "            nn.Sigmoid(),\n",
        "            nn.Linear(hidden_dims, hidden_dims),\n",
        "            nn.Sigmoid(),\n",
        "            nn.Linear(hidden_dims, hidden_dims),\n",
        "            nn.Sigmoid(),\n",
        "            nn.Linear(hidden_dims, hidden_dims),\n",
        "            nn.Sigmoid(),\n",
        "            nn.Linear(hidden_dims, hidden_dims),\n",
        "            nn.Sigmoid(),\n",
        "            nn.Linear(hidden_dims, hidden_dims),\n",
        "            nn.Sigmoid(),\n",
        "            nn.Linear(hidden_dims, hidden_dims),\n",
        "            nn.Sigmoid(),\n",
        "            nn.Linear(hidden_dims, output_dims)\n",
        "        )\n",
        "\n",
        "        for m in self.modules():\n",
        "            if isinstance(m, nn.Linear):\n",
        "                nn.init.normal_(m.weight, mean=0.0, std=10)\n",
        "                nn.init.constant_(m.bias, 0.0)\n",
        "\n",
        "    def forward(self, x):\n",
        "        return self.layers(x)"
      ],
      "metadata": {
        "id": "cXhDIGvFwNAE"
      },
      "execution_count": 4,
      "outputs": []
    },
    {
      "cell_type": "markdown",
      "source": [
        "# Better Activaiton"
      ],
      "metadata": {
        "id": "Xdc9pMPQ4SCk"
      }
    },
    {
      "cell_type": "code",
      "source": [
        "class MLP(nn.Module):\n",
        "    def __init__(self, input_dims, hidden_dims, output_dims):\n",
        "        super().__init__()\n",
        "        self.layers = nn.Sequential(\n",
        "            nn.Flatten(),\n",
        "            nn.Linear(input_dims, hidden_dims),\n",
        "            nn.ReLU(),\n",
        "            nn.Linear(hidden_dims, hidden_dims),\n",
        "            nn.ReLU(),\n",
        "            nn.Linear(hidden_dims, hidden_dims),\n",
        "            nn.ReLU(),\n",
        "            nn.Linear(hidden_dims, hidden_dims),\n",
        "            nn.ReLU(),\n",
        "            nn.Linear(hidden_dims, hidden_dims),\n",
        "            nn.ReLU(),\n",
        "            nn.Linear(hidden_dims, hidden_dims),\n",
        "            nn.ReLU(),\n",
        "            nn.Linear(hidden_dims, hidden_dims),\n",
        "            nn.ReLU(),\n",
        "            nn.Linear(hidden_dims, output_dims)\n",
        "        )\n",
        "\n",
        "    def forward(self, x):\n",
        "        return self.layers(x)"
      ],
      "metadata": {
        "id": "YGtItNVE4ZXy"
      },
      "execution_count": null,
      "outputs": []
    },
    {
      "cell_type": "markdown",
      "source": [
        "# Normalization Inside Network"
      ],
      "metadata": {
        "id": "S2slOHD-63Zu"
      }
    },
    {
      "cell_type": "code",
      "source": [
        "class MLP(nn.Module):\n",
        "    def __init__(self, input_dims, hidden_dims, output_dims):\n",
        "        super().__init__()\n",
        "        self.layers = nn.Sequential(\n",
        "            nn.Flatten(),\n",
        "            nn.Linear(input_dims, hidden_dims),\n",
        "            nn.BatchNorm1d(hidden_dims),\n",
        "            nn.Sigmoid(),\n",
        "            nn.Linear(hidden_dims, hidden_dims),\n",
        "            nn.BatchNorm1d(hidden_dims),\n",
        "            nn.Sigmoid(),\n",
        "            nn.Linear(hidden_dims, hidden_dims),\n",
        "            nn.BatchNorm1d(hidden_dims),\n",
        "            nn.Sigmoid(),\n",
        "            nn.Linear(hidden_dims, hidden_dims),\n",
        "            nn.BatchNorm1d(hidden_dims),\n",
        "            nn.Sigmoid(),\n",
        "            nn.Linear(hidden_dims, hidden_dims),\n",
        "            nn.BatchNorm1d(hidden_dims),\n",
        "            nn.Sigmoid(),\n",
        "            nn.Linear(hidden_dims, hidden_dims),\n",
        "            nn.BatchNorm1d(hidden_dims),\n",
        "            nn.Sigmoid(),\n",
        "            nn.Linear(hidden_dims, hidden_dims),\n",
        "            nn.BatchNorm1d(hidden_dims),\n",
        "            nn.Sigmoid(),\n",
        "            nn.Linear(hidden_dims, output_dims)\n",
        "        )\n",
        "\n",
        "    def forward(self, x):\n",
        "        return self.layers(x)"
      ],
      "metadata": {
        "id": "0wES9Tjp62Wj"
      },
      "execution_count": null,
      "outputs": []
    },
    {
      "cell_type": "markdown",
      "source": [
        "# Custom Normalization"
      ],
      "metadata": {
        "id": "B1KJCb5O81Rc"
      }
    },
    {
      "cell_type": "code",
      "source": [
        "class MyNormalization(nn.Module):\n",
        "    def __init__(self):\n",
        "        super().__init__()\n",
        "\n",
        "    def forward(self, x):\n",
        "        mean = torch.mean(x)\n",
        "        std = torch.std(x)\n",
        "        return (x - mean)/std"
      ],
      "metadata": {
        "id": "imdXxvsk832R"
      },
      "execution_count": null,
      "outputs": []
    },
    {
      "cell_type": "code",
      "source": [
        "class MLP(nn.Module):\n",
        "    def __init__(self, input_dims, hidden_dims, output_dims):\n",
        "        super().__init__()\n",
        "        self.layers = nn.Sequential(\n",
        "            nn.Flatten(),\n",
        "            nn.Linear(input_dims, hidden_dims),\n",
        "            nn.MyNormalization(hidden_dims),\n",
        "            nn.Sigmoid(),\n",
        "            nn.Linear(hidden_dims, hidden_dims),\n",
        "            nn.MyNormalization(hidden_dims),\n",
        "            nn.Sigmoid(),\n",
        "            nn.Linear(hidden_dims, hidden_dims),\n",
        "            nn.MyNormalization(hidden_dims),\n",
        "            nn.Sigmoid(),\n",
        "            nn.Linear(hidden_dims, hidden_dims),\n",
        "            nn.MyNormalization(hidden_dims),\n",
        "            nn.Sigmoid(),\n",
        "            nn.Linear(hidden_dims, hidden_dims),\n",
        "            nn.MyNormalization(hidden_dims),\n",
        "            nn.Sigmoid(),\n",
        "            nn.Linear(hidden_dims, hidden_dims),\n",
        "            nn.MyNormalization(hidden_dims),\n",
        "            nn.Sigmoid(),\n",
        "            nn.Linear(hidden_dims, hidden_dims),\n",
        "            nn.MyNormalization(hidden_dims),\n",
        "            nn.Sigmoid(),\n",
        "            nn.Linear(hidden_dims, output_dims)\n",
        "        )\n",
        "\n",
        "    def forward(self, x):\n",
        "        return self.layers(x)"
      ],
      "metadata": {
        "id": "tglqemxX9ZFp"
      },
      "execution_count": null,
      "outputs": []
    },
    {
      "cell_type": "markdown",
      "source": [
        "# Skip Connection"
      ],
      "metadata": {
        "id": "dQQsYBJm9tKt"
      }
    },
    {
      "cell_type": "code",
      "source": [
        "class MLP(nn.Module):\n",
        "    def __init__(self, input_dims, hidden_dims, output_dims):\n",
        "        super(MLP, self).__init__()\n",
        "        self.layer1 = nn.Linear(input_dims, hidden_dims)\n",
        "        self.layer2 = nn.Linear(hidden_dims, hidden_dims)\n",
        "        self.layer3 = nn.Linear(hidden_dims, hidden_dims)\n",
        "        self.layer4 = nn.Linear(hidden_dims, hidden_dims)\n",
        "        self.layer5 = nn.Linear(hidden_dims, hidden_dims)\n",
        "        self.layer6 = nn.Linear(hidden_dims, hidden_dims)\n",
        "        self.layer7 = nn.Linear(hidden_dims, hidden_dims)\n",
        "        self.output = nn.Linear(hidden_dims, output_dims)\n",
        "\n",
        "    def forward(self, x):\n",
        "        x = nn.Flatten()(x)\n",
        "        x = self.layer1(x)\n",
        "        x = nn.Sigmoid()(x)\n",
        "        skip_1 = x\n",
        "        x = self.layer2(x)\n",
        "        x = nn.Sigmoid()(x)\n",
        "        x = self.layer3(x)\n",
        "        x = nn.Sigmoid()(x)\n",
        "        x = x + skip_1\n",
        "        x = self.layer4(x)\n",
        "        x = nn.Sigmoid()(x)\n",
        "        skip_2 = x\n",
        "        x = self.layer5(x)\n",
        "        x = nn.Sigmoid()(x)\n",
        "        x = self.layer6(x)\n",
        "        x = nn.Sigmoid()(x)\n",
        "        x = self.layer7(x)\n",
        "        x = nn.Sigmoid()(x)\n",
        "        x = x + skip_2\n",
        "        x = self.output(x)\n",
        "        return x"
      ],
      "metadata": {
        "id": "ULAcr3G-9uv0"
      },
      "execution_count": null,
      "outputs": []
    },
    {
      "cell_type": "markdown",
      "source": [
        "---"
      ],
      "metadata": {
        "id": "uUauBoDL6xP7"
      }
    },
    {
      "cell_type": "markdown",
      "source": [
        "## Optimizer"
      ],
      "metadata": {
        "id": "Jblcb0L46Y9n"
      }
    },
    {
      "cell_type": "code",
      "source": [
        "model = MLP(input_dims=784, hidden_dims=128, output_dims=10).to(device)\n",
        "criterion = nn.CrossEntropyLoss()\n",
        "optimizer = optim.SGD(model.parameters(), lr=lr)"
      ],
      "metadata": {
        "id": "95naPHB7zyZW"
      },
      "execution_count": 5,
      "outputs": []
    },
    {
      "cell_type": "markdown",
      "source": [
        "## Better Optimizer"
      ],
      "metadata": {
        "id": "wYjMEDcE6NpY"
      }
    },
    {
      "cell_type": "code",
      "source": [
        "model = MLP(input_dims=784, hidden_dims=128, output_dims=10).to(device)\n",
        "criterion = nn.CrossEntropyLoss()\n",
        "optimizer = optim.Adam(model.parameters(), lr=lr)"
      ],
      "metadata": {
        "id": "DszhG1Qj6kCF"
      },
      "execution_count": null,
      "outputs": []
    },
    {
      "cell_type": "markdown",
      "source": [
        "---"
      ],
      "metadata": {
        "id": "Pht-GUFa87iM"
      }
    },
    {
      "cell_type": "markdown",
      "source": [
        "# Train Some Layers"
      ],
      "metadata": {
        "id": "08YEbOuGF4Mj"
      }
    },
    {
      "cell_type": "code",
      "source": [
        "class MLP_1layer(nn.Module):\n",
        "    def __init__(self, input_dims, output_dims):\n",
        "        super(MLP_1layer, self).__init__()\n",
        "        self.layer1 = nn.Linear(input_dims, output_dims)\n",
        "        for m in self.modules():\n",
        "            if isinstance(m, nn.Linear):\n",
        "                nn.init.normal_(m.weight, mean=0.0, std=0.05)\n",
        "                nn.init.constant_(m.bias, 0.0)\n",
        "\n",
        "    def forward(self, x):\n",
        "        x = nn.Flatten()(x)\n",
        "        x = self.layer1(x)\n",
        "        x = nn.Sigmoid()(x)\n",
        "        return x\n",
        "\n",
        "\n",
        "class MLP_2layers(nn.Module):\n",
        "    def __init__(self, input_dims, output_dims):\n",
        "        super(MLP_2layers, self).__init__()\n",
        "        self.layer1 = nn.Linear(input_dims, output_dims)\n",
        "        self.layer2 = nn.Linear(output_dims, output_dims)\n",
        "        for m in self.modules():\n",
        "            if isinstance(m, nn.Linear):\n",
        "                nn.init.normal_(m.weight, mean=0.0, std=0.05)\n",
        "                nn.init.constant_(m.bias, 0.0)\n",
        "\n",
        "    def forward(self, x):\n",
        "        x = nn.Flatten()(x)\n",
        "        x = self.layer1(x)\n",
        "        x = nn.Sigmoid()(x)\n",
        "        x = self.layer2(x)\n",
        "        x = nn.Sigmoid()(x)\n",
        "        return x"
      ],
      "metadata": {
        "id": "L7ElTNiaF6nK"
      },
      "execution_count": null,
      "outputs": []
    },
    {
      "cell_type": "code",
      "source": [
        "first = MLP_2layers(input_dims=784, output_dims=128)\n",
        "second = MLP_2layers(input_dims=128, output_dims=128)\n",
        "third = MLP_2layers(input_dims=128, output_dims=128)\n",
        "fourth = MLP_1layer(input_dims=128, output_dims=128)"
      ],
      "metadata": {
        "id": "9-3E_xwGF9DV"
      },
      "execution_count": null,
      "outputs": []
    },
    {
      "cell_type": "markdown",
      "source": [
        "## Train 1"
      ],
      "metadata": {
        "id": "QyvhcdWFGEMD"
      }
    },
    {
      "cell_type": "code",
      "source": [
        "model = nn.Sequential(\n",
        "    first,\n",
        "    nn.Linear(128, 10)\n",
        ").to(device)\n",
        "\n",
        "criterion = nn.CrossEntropyLoss()\n",
        "optimizer = optim.SGD(model.parameters(), lr=lr)"
      ],
      "metadata": {
        "id": "QEpxNWBoGFNo"
      },
      "execution_count": null,
      "outputs": []
    },
    {
      "cell_type": "markdown",
      "source": [
        "## Train 2"
      ],
      "metadata": {
        "id": "mQn4oIeqGHRA"
      }
    },
    {
      "cell_type": "code",
      "source": [
        "model = nn.Sequential(\n",
        "    first.requires_grad_(False),\n",
        "    second,\n",
        "    nn.Linear(128, 10)\n",
        ").to(device)\n",
        "\n",
        "criterion = nn.CrossEntropyLoss()\n",
        "optimizer = optim.SGD(model.parameters(), lr=lr)"
      ],
      "metadata": {
        "id": "iHzy_eVUGIzo"
      },
      "execution_count": null,
      "outputs": []
    },
    {
      "cell_type": "markdown",
      "source": [
        "## Train 3"
      ],
      "metadata": {
        "id": "G76pvc4XH5c7"
      }
    },
    {
      "cell_type": "code",
      "source": [
        "model = nn.Sequential(\n",
        "    first,\n",
        "    second,\n",
        "    nn.Linear(128, 10)\n",
        ").to(device)\n",
        "\n",
        "criterion = nn.CrossEntropyLoss()\n",
        "optimizer = optim.SGD(model.parameters(), lr=lr)"
      ],
      "metadata": {
        "id": "0eJ9oALsH7SR"
      },
      "execution_count": null,
      "outputs": []
    },
    {
      "cell_type": "markdown",
      "source": [
        "## Train 4"
      ],
      "metadata": {
        "id": "DGRFqgNLH_UY"
      }
    },
    {
      "cell_type": "code",
      "source": [
        "model = nn.Sequential(\n",
        "    first.requires_grad_(False),\n",
        "    second.requires_grad_(False),\n",
        "    third,\n",
        "    nn.Linear(128, 10)\n",
        ").to(device)\n",
        "\n",
        "criterion = nn.CrossEntropyLoss()\n",
        "optimizer = optim.SGD(model.parameters(), lr=lr)"
      ],
      "metadata": {
        "id": "gsxb_1oeIA7y"
      },
      "execution_count": null,
      "outputs": []
    },
    {
      "cell_type": "markdown",
      "source": [
        "## Train 5"
      ],
      "metadata": {
        "id": "oPS7ndIRIHZB"
      }
    },
    {
      "cell_type": "code",
      "source": [
        "model = nn.Sequential(\n",
        "    first,\n",
        "    second,\n",
        "    third,\n",
        "    nn.Linear(128, 10)\n",
        ").to(device)\n",
        "\n",
        "criterion = nn.CrossEntropyLoss()\n",
        "optimizer = optim.SGD(model.parameters(), lr=lr)"
      ],
      "metadata": {
        "id": "00bHarcOIK8M"
      },
      "execution_count": null,
      "outputs": []
    },
    {
      "cell_type": "markdown",
      "source": [
        "## Train 6"
      ],
      "metadata": {
        "id": "cPn4BKEHIQPI"
      }
    },
    {
      "cell_type": "code",
      "source": [
        "model = nn.Sequential(\n",
        "    first.requires_grad_(False),\n",
        "    second.requires_grad_(False),\n",
        "    third.requires_grad_(False),\n",
        "    fourth,\n",
        "    nn.Linear(128, 10)\n",
        ").to(device)\n",
        "\n",
        "criterion = nn.CrossEntropyLoss()\n",
        "optimizer = optim.SGD(model.parameters(), lr=lr)"
      ],
      "metadata": {
        "id": "NnSERJpZIR8P"
      },
      "execution_count": null,
      "outputs": []
    },
    {
      "cell_type": "markdown",
      "source": [
        "## Train 7"
      ],
      "metadata": {
        "id": "6nQqE_H-IYLE"
      }
    },
    {
      "cell_type": "code",
      "source": [
        "model = nn.Sequential(\n",
        "    first,\n",
        "    second,\n",
        "    third,\n",
        "    fourth,\n",
        "    nn.Linear(128, 10)\n",
        ").to(device)\n",
        "\n",
        "criterion = nn.CrossEntropyLoss()\n",
        "optimizer = optim.SGD(model.parameters(), lr=lr)"
      ],
      "metadata": {
        "id": "4X1bIuEFIa1A"
      },
      "execution_count": null,
      "outputs": []
    },
    {
      "cell_type": "markdown",
      "source": [
        "---"
      ],
      "metadata": {
        "id": "9EIzlL4uF7Jk"
      }
    },
    {
      "cell_type": "code",
      "source": [
        "train_losses = []\n",
        "train_accs = []\n",
        "val_losses = []\n",
        "val_accs = []\n",
        "\n",
        "for epoch in range(num_epochs):\n",
        "    model.train()\n",
        "    train_loss = 0.0\n",
        "    train_acc = 0.0\n",
        "    for X, y in train_loader:\n",
        "        X, y = X.to(device), y.to(device)\n",
        "        optimizer.zero_grad()\n",
        "        y_pred = model(X)\n",
        "        loss = criterion(y_pred, y)\n",
        "        loss.backward()\n",
        "        optimizer.step()\n",
        "        train_loss += loss.item()\n",
        "        train_acc += (y_pred.argmax(dim=1) == y).sum() / len(y)\n",
        "    train_losses.append(train_loss / len(train_loader))\n",
        "    train_accs.append(train_acc / len(train_loader))\n",
        "\n",
        "    model.eval()\n",
        "    val_loss = 0.0\n",
        "    val_acc = 0.0\n",
        "    with torch.no_grad():\n",
        "        for X, y in test_loader:\n",
        "            X, y = X.to(device), y.to(device)\n",
        "            y_pred = model(X)\n",
        "            loss = criterion(y_pred, y)\n",
        "            val_loss += loss.item()\n",
        "            val_acc += (y_pred.argmax(dim=1) == y).sum() / len(y)\n",
        "    val_losses.append(val_loss / len(test_loader))\n",
        "    val_accs.append(val_acc / len(test_loader))\n",
        "\n",
        "    print(f\"Epoch {epoch+1}/{num_epochs}, Train_Loss: {train_loss:.4f}, Train_Acc: {train_acc:.4f}, Validation Loss: {val_loss:.4f}, Val_Acc: {val_acc:.4f}\")"
      ],
      "metadata": {
        "colab": {
          "base_uri": "https://localhost:8080/"
        },
        "id": "ZBndmlQ6rKxq",
        "outputId": "63c4f168-ada5-4ce8-bb3a-1e040e20b7c6"
      },
      "execution_count": 6,
      "outputs": [
        {
          "output_type": "stream",
          "name": "stdout",
          "text": [
            "Epoch 1/300, Train_Loss: 508.3824, Train_Acc: 16.6484, Validation Loss: 44.1015, Val_Acc: 4.0117\n",
            "Epoch 2/300, Train_Loss: 238.8187, Train_Acc: 31.9043, Validation Loss: 38.0766, Val_Acc: 6.3512\n",
            "Epoch 3/300, Train_Loss: 213.6338, Train_Acc: 42.0983, Validation Loss: 34.9287, Val_Acc: 7.5631\n",
            "Epoch 4/300, Train_Loss: 197.9130, Train_Acc: 47.4219, Validation Loss: 32.6578, Val_Acc: 8.3218\n",
            "Epoch 5/300, Train_Loss: 186.0697, Train_Acc: 51.2552, Validation Loss: 30.8647, Val_Acc: 8.8392\n",
            "Epoch 6/300, Train_Loss: 176.4084, Train_Acc: 54.1960, Validation Loss: 29.4127, Val_Acc: 9.3126\n",
            "Epoch 7/300, Train_Loss: 168.6046, Train_Acc: 56.4980, Validation Loss: 28.2522, Val_Acc: 9.6858\n",
            "Epoch 8/300, Train_Loss: 162.0498, Train_Acc: 58.5208, Validation Loss: 27.1937, Val_Acc: 10.0908\n",
            "Epoch 9/300, Train_Loss: 156.2821, Train_Acc: 60.5352, Validation Loss: 26.3430, Val_Acc: 10.3188\n",
            "Epoch 10/300, Train_Loss: 151.4124, Train_Acc: 62.0280, Validation Loss: 25.6309, Val_Acc: 10.5084\n",
            "Epoch 11/300, Train_Loss: 147.4346, Train_Acc: 63.3802, Validation Loss: 24.9729, Val_Acc: 10.7935\n",
            "Epoch 12/300, Train_Loss: 143.9070, Train_Acc: 64.7513, Validation Loss: 24.4010, Val_Acc: 11.0304\n",
            "Epoch 13/300, Train_Loss: 140.5097, Train_Acc: 66.0065, Validation Loss: 23.9220, Val_Acc: 11.1921\n",
            "Epoch 14/300, Train_Loss: 137.7480, Train_Acc: 67.0117, Validation Loss: 23.4560, Val_Acc: 11.2858\n",
            "Epoch 15/300, Train_Loss: 135.0408, Train_Acc: 67.9798, Validation Loss: 23.0427, Val_Acc: 11.4856\n",
            "Epoch 16/300, Train_Loss: 132.8800, Train_Acc: 68.7799, Validation Loss: 22.7064, Val_Acc: 11.5798\n",
            "Epoch 17/300, Train_Loss: 130.6360, Train_Acc: 69.6992, Validation Loss: 22.3286, Val_Acc: 11.7061\n",
            "Epoch 18/300, Train_Loss: 128.6441, Train_Acc: 70.4961, Validation Loss: 22.0269, Val_Acc: 11.8856\n",
            "Epoch 19/300, Train_Loss: 126.7003, Train_Acc: 71.0384, Validation Loss: 21.7274, Val_Acc: 11.9581\n",
            "Epoch 20/300, Train_Loss: 125.0819, Train_Acc: 71.7611, Validation Loss: 21.4615, Val_Acc: 12.0414\n",
            "Epoch 21/300, Train_Loss: 123.3314, Train_Acc: 72.4440, Validation Loss: 21.2054, Val_Acc: 12.1392\n",
            "Epoch 22/300, Train_Loss: 121.8249, Train_Acc: 72.9271, Validation Loss: 21.0087, Val_Acc: 12.2124\n",
            "Epoch 23/300, Train_Loss: 120.3615, Train_Acc: 73.4355, Validation Loss: 20.7875, Val_Acc: 12.2354\n",
            "Epoch 24/300, Train_Loss: 119.1435, Train_Acc: 73.8685, Validation Loss: 20.5760, Val_Acc: 12.3834\n",
            "Epoch 25/300, Train_Loss: 117.7685, Train_Acc: 74.4219, Validation Loss: 20.3655, Val_Acc: 12.5168\n",
            "Epoch 26/300, Train_Loss: 116.5887, Train_Acc: 74.9017, Validation Loss: 20.1732, Val_Acc: 12.5700\n",
            "Epoch 27/300, Train_Loss: 115.3983, Train_Acc: 75.2513, Validation Loss: 19.9969, Val_Acc: 12.6669\n",
            "Epoch 28/300, Train_Loss: 114.4000, Train_Acc: 75.7454, Validation Loss: 19.8251, Val_Acc: 12.7392\n",
            "Epoch 29/300, Train_Loss: 113.4289, Train_Acc: 76.1191, Validation Loss: 19.6804, Val_Acc: 12.7997\n",
            "Epoch 30/300, Train_Loss: 112.1737, Train_Acc: 76.6107, Validation Loss: 19.5097, Val_Acc: 12.8256\n",
            "Epoch 31/300, Train_Loss: 111.2898, Train_Acc: 77.0195, Validation Loss: 19.3705, Val_Acc: 12.8603\n",
            "Epoch 32/300, Train_Loss: 110.4326, Train_Acc: 77.3477, Validation Loss: 19.2505, Val_Acc: 12.9272\n",
            "Epoch 33/300, Train_Loss: 109.4239, Train_Acc: 77.8027, Validation Loss: 19.0836, Val_Acc: 12.9799\n",
            "Epoch 34/300, Train_Loss: 108.7317, Train_Acc: 78.0840, Validation Loss: 18.9657, Val_Acc: 12.9887\n",
            "Epoch 35/300, Train_Loss: 107.8544, Train_Acc: 78.2344, Validation Loss: 18.8418, Val_Acc: 13.0649\n",
            "Epoch 36/300, Train_Loss: 107.0801, Train_Acc: 78.6400, Validation Loss: 18.7286, Val_Acc: 13.1201\n",
            "Epoch 37/300, Train_Loss: 106.2051, Train_Acc: 79.0619, Validation Loss: 18.6183, Val_Acc: 13.1648\n",
            "Epoch 38/300, Train_Loss: 105.8173, Train_Acc: 79.2435, Validation Loss: 18.4884, Val_Acc: 13.1787\n",
            "Epoch 39/300, Train_Loss: 104.9269, Train_Acc: 79.4629, Validation Loss: 18.3949, Val_Acc: 13.2565\n",
            "Epoch 40/300, Train_Loss: 104.2451, Train_Acc: 79.7480, Validation Loss: 18.2892, Val_Acc: 13.2869\n",
            "Epoch 41/300, Train_Loss: 103.6205, Train_Acc: 80.0651, Validation Loss: 18.1800, Val_Acc: 13.3616\n",
            "Epoch 42/300, Train_Loss: 102.9552, Train_Acc: 80.2943, Validation Loss: 18.0577, Val_Acc: 13.3716\n",
            "Epoch 43/300, Train_Loss: 102.3836, Train_Acc: 80.5221, Validation Loss: 17.9779, Val_Acc: 13.4241\n",
            "Epoch 44/300, Train_Loss: 101.8110, Train_Acc: 80.7533, Validation Loss: 17.8704, Val_Acc: 13.4688\n",
            "Epoch 45/300, Train_Loss: 101.0991, Train_Acc: 81.0312, Validation Loss: 17.7931, Val_Acc: 13.5119\n",
            "Epoch 46/300, Train_Loss: 100.5453, Train_Acc: 81.2936, Validation Loss: 17.7008, Val_Acc: 13.5191\n",
            "Epoch 47/300, Train_Loss: 100.0929, Train_Acc: 81.4401, Validation Loss: 17.6247, Val_Acc: 13.5774\n",
            "Epoch 48/300, Train_Loss: 99.5051, Train_Acc: 81.6152, Validation Loss: 17.5216, Val_Acc: 13.6163\n",
            "Epoch 49/300, Train_Loss: 99.1136, Train_Acc: 81.8073, Validation Loss: 17.4342, Val_Acc: 13.6720\n",
            "Epoch 50/300, Train_Loss: 98.5535, Train_Acc: 82.0078, Validation Loss: 17.3617, Val_Acc: 13.6646\n",
            "Epoch 51/300, Train_Loss: 98.0835, Train_Acc: 82.2070, Validation Loss: 17.2788, Val_Acc: 13.6764\n",
            "Epoch 52/300, Train_Loss: 97.4598, Train_Acc: 82.4375, Validation Loss: 17.2144, Val_Acc: 13.7135\n",
            "Epoch 53/300, Train_Loss: 97.0722, Train_Acc: 82.5911, Validation Loss: 17.1328, Val_Acc: 13.7310\n",
            "Epoch 54/300, Train_Loss: 96.7202, Train_Acc: 82.8151, Validation Loss: 17.0543, Val_Acc: 13.7929\n",
            "Epoch 55/300, Train_Loss: 96.2102, Train_Acc: 82.9870, Validation Loss: 16.9972, Val_Acc: 13.8031\n",
            "Epoch 56/300, Train_Loss: 95.8719, Train_Acc: 83.0645, Validation Loss: 16.9322, Val_Acc: 13.8495\n",
            "Epoch 57/300, Train_Loss: 95.4279, Train_Acc: 83.1888, Validation Loss: 16.8667, Val_Acc: 13.8707\n",
            "Epoch 58/300, Train_Loss: 95.1171, Train_Acc: 83.4147, Validation Loss: 16.7924, Val_Acc: 13.9157\n",
            "Epoch 59/300, Train_Loss: 94.6055, Train_Acc: 83.4967, Validation Loss: 16.7571, Val_Acc: 13.9308\n",
            "Epoch 60/300, Train_Loss: 94.2393, Train_Acc: 83.7051, Validation Loss: 16.6624, Val_Acc: 13.9530\n",
            "Epoch 61/300, Train_Loss: 93.8696, Train_Acc: 83.8867, Validation Loss: 16.6017, Val_Acc: 13.9853\n",
            "Epoch 62/300, Train_Loss: 93.5178, Train_Acc: 84.0410, Validation Loss: 16.5414, Val_Acc: 14.0280\n",
            "Epoch 63/300, Train_Loss: 93.1745, Train_Acc: 84.1302, Validation Loss: 16.4996, Val_Acc: 14.0053\n",
            "Epoch 64/300, Train_Loss: 92.8029, Train_Acc: 84.2181, Validation Loss: 16.4251, Val_Acc: 14.0537\n",
            "Epoch 65/300, Train_Loss: 92.5377, Train_Acc: 84.3405, Validation Loss: 16.3993, Val_Acc: 14.0246\n",
            "Epoch 66/300, Train_Loss: 92.0761, Train_Acc: 84.4674, Validation Loss: 16.3144, Val_Acc: 14.0795\n",
            "Epoch 67/300, Train_Loss: 91.6969, Train_Acc: 84.6406, Validation Loss: 16.2815, Val_Acc: 14.1140\n",
            "Epoch 68/300, Train_Loss: 91.5111, Train_Acc: 84.6641, Validation Loss: 16.2290, Val_Acc: 14.1708\n",
            "Epoch 69/300, Train_Loss: 91.0780, Train_Acc: 84.7702, Validation Loss: 16.1749, Val_Acc: 14.1691\n",
            "Epoch 70/300, Train_Loss: 90.7789, Train_Acc: 84.9961, Validation Loss: 16.1531, Val_Acc: 14.1784\n",
            "Epoch 71/300, Train_Loss: 90.4118, Train_Acc: 85.1237, Validation Loss: 16.0752, Val_Acc: 14.1772\n",
            "Epoch 72/300, Train_Loss: 90.0448, Train_Acc: 85.2669, Validation Loss: 16.0279, Val_Acc: 14.2590\n",
            "Epoch 73/300, Train_Loss: 89.7570, Train_Acc: 85.3516, Validation Loss: 15.9737, Val_Acc: 14.2651\n",
            "Epoch 74/300, Train_Loss: 89.6431, Train_Acc: 85.4473, Validation Loss: 15.9428, Val_Acc: 14.2233\n",
            "Epoch 75/300, Train_Loss: 89.2987, Train_Acc: 85.6003, Validation Loss: 15.8729, Val_Acc: 14.2878\n",
            "Epoch 76/300, Train_Loss: 88.9943, Train_Acc: 85.7305, Validation Loss: 15.8363, Val_Acc: 14.3078\n",
            "Epoch 77/300, Train_Loss: 88.7076, Train_Acc: 85.7969, Validation Loss: 15.7918, Val_Acc: 14.3115\n",
            "Epoch 78/300, Train_Loss: 88.4999, Train_Acc: 85.8411, Validation Loss: 15.7556, Val_Acc: 14.3737\n",
            "Epoch 79/300, Train_Loss: 88.3402, Train_Acc: 85.9375, Validation Loss: 15.7425, Val_Acc: 14.3442\n",
            "Epoch 80/300, Train_Loss: 87.9564, Train_Acc: 86.1374, Validation Loss: 15.6663, Val_Acc: 14.3972\n",
            "Epoch 81/300, Train_Loss: 87.5651, Train_Acc: 86.2461, Validation Loss: 15.6186, Val_Acc: 14.4184\n",
            "Epoch 82/300, Train_Loss: 87.4133, Train_Acc: 86.2891, Validation Loss: 15.5839, Val_Acc: 14.4033\n",
            "Epoch 83/300, Train_Loss: 87.1010, Train_Acc: 86.5273, Validation Loss: 15.5444, Val_Acc: 14.4614\n",
            "Epoch 84/300, Train_Loss: 86.9212, Train_Acc: 86.4935, Validation Loss: 15.5102, Val_Acc: 14.4360\n",
            "Epoch 85/300, Train_Loss: 86.5670, Train_Acc: 86.5898, Validation Loss: 15.4641, Val_Acc: 14.4809\n",
            "Epoch 86/300, Train_Loss: 86.4193, Train_Acc: 86.6510, Validation Loss: 15.4327, Val_Acc: 14.5139\n",
            "Epoch 87/300, Train_Loss: 86.1283, Train_Acc: 86.8503, Validation Loss: 15.3892, Val_Acc: 14.5139\n",
            "Epoch 88/300, Train_Loss: 85.7575, Train_Acc: 86.9616, Validation Loss: 15.3502, Val_Acc: 14.5315\n",
            "Epoch 89/300, Train_Loss: 85.6717, Train_Acc: 86.9994, Validation Loss: 15.3231, Val_Acc: 14.5469\n",
            "Epoch 90/300, Train_Loss: 85.3819, Train_Acc: 86.9648, Validation Loss: 15.2814, Val_Acc: 14.5312\n",
            "Epoch 91/300, Train_Loss: 85.1850, Train_Acc: 87.1237, Validation Loss: 15.2547, Val_Acc: 14.5894\n",
            "Epoch 92/300, Train_Loss: 84.8420, Train_Acc: 87.3366, Validation Loss: 15.2116, Val_Acc: 14.5605\n",
            "Epoch 93/300, Train_Loss: 84.7580, Train_Acc: 87.2754, Validation Loss: 15.1726, Val_Acc: 14.6013\n",
            "Epoch 94/300, Train_Loss: 84.4750, Train_Acc: 87.4772, Validation Loss: 15.1347, Val_Acc: 14.5994\n",
            "Epoch 95/300, Train_Loss: 84.2464, Train_Acc: 87.6523, Validation Loss: 15.1144, Val_Acc: 14.6155\n",
            "Epoch 96/300, Train_Loss: 84.0431, Train_Acc: 87.6680, Validation Loss: 15.0696, Val_Acc: 14.6445\n",
            "Epoch 97/300, Train_Loss: 83.7070, Train_Acc: 87.6719, Validation Loss: 15.0532, Val_Acc: 14.6224\n",
            "Epoch 98/300, Train_Loss: 83.6310, Train_Acc: 87.7682, Validation Loss: 15.0007, Val_Acc: 14.6558\n",
            "Epoch 99/300, Train_Loss: 83.4446, Train_Acc: 87.8594, Validation Loss: 14.9702, Val_Acc: 14.6365\n",
            "Epoch 100/300, Train_Loss: 83.2185, Train_Acc: 87.9329, Validation Loss: 14.9536, Val_Acc: 14.6384\n",
            "Epoch 101/300, Train_Loss: 82.9659, Train_Acc: 88.0892, Validation Loss: 14.9189, Val_Acc: 14.6834\n",
            "Epoch 102/300, Train_Loss: 82.7926, Train_Acc: 87.9987, Validation Loss: 14.9000, Val_Acc: 14.6328\n",
            "Epoch 103/300, Train_Loss: 82.6493, Train_Acc: 88.2005, Validation Loss: 14.8679, Val_Acc: 14.6638\n",
            "Epoch 104/300, Train_Loss: 82.4123, Train_Acc: 88.2819, Validation Loss: 14.8149, Val_Acc: 14.6853\n",
            "Epoch 105/300, Train_Loss: 82.1889, Train_Acc: 88.2682, Validation Loss: 14.8018, Val_Acc: 14.6966\n",
            "Epoch 106/300, Train_Loss: 81.9943, Train_Acc: 88.3913, Validation Loss: 14.7668, Val_Acc: 14.7486\n",
            "Epoch 107/300, Train_Loss: 81.9729, Train_Acc: 88.3581, Validation Loss: 14.7230, Val_Acc: 14.7196\n",
            "Epoch 108/300, Train_Loss: 81.6290, Train_Acc: 88.5449, Validation Loss: 14.7051, Val_Acc: 14.7476\n",
            "Epoch 109/300, Train_Loss: 81.5351, Train_Acc: 88.5449, Validation Loss: 14.6751, Val_Acc: 14.7359\n",
            "Epoch 110/300, Train_Loss: 81.3692, Train_Acc: 88.5703, Validation Loss: 14.6346, Val_Acc: 14.7625\n",
            "Epoch 111/300, Train_Loss: 81.1153, Train_Acc: 88.6465, Validation Loss: 14.6138, Val_Acc: 14.7608\n",
            "Epoch 112/300, Train_Loss: 80.9608, Train_Acc: 88.7344, Validation Loss: 14.5840, Val_Acc: 14.7977\n",
            "Epoch 113/300, Train_Loss: 80.7889, Train_Acc: 88.8294, Validation Loss: 14.5489, Val_Acc: 14.7879\n",
            "Epoch 114/300, Train_Loss: 80.4700, Train_Acc: 88.9447, Validation Loss: 14.5303, Val_Acc: 14.7862\n",
            "Epoch 115/300, Train_Loss: 80.2394, Train_Acc: 88.9629, Validation Loss: 14.5009, Val_Acc: 14.8020\n",
            "Epoch 116/300, Train_Loss: 80.2219, Train_Acc: 89.0449, Validation Loss: 14.4782, Val_Acc: 14.7842\n",
            "Epoch 117/300, Train_Loss: 79.9500, Train_Acc: 89.0885, Validation Loss: 14.4476, Val_Acc: 14.8248\n",
            "Epoch 118/300, Train_Loss: 79.8665, Train_Acc: 89.1810, Validation Loss: 14.4174, Val_Acc: 14.8493\n",
            "Epoch 119/300, Train_Loss: 79.5751, Train_Acc: 89.2884, Validation Loss: 14.3986, Val_Acc: 14.8500\n",
            "Epoch 120/300, Train_Loss: 79.5939, Train_Acc: 89.3125, Validation Loss: 14.3725, Val_Acc: 14.8688\n",
            "Epoch 121/300, Train_Loss: 79.3310, Train_Acc: 89.3444, Validation Loss: 14.3428, Val_Acc: 14.8554\n",
            "Epoch 122/300, Train_Loss: 79.1273, Train_Acc: 89.3659, Validation Loss: 14.3104, Val_Acc: 14.8986\n",
            "Epoch 123/300, Train_Loss: 78.9632, Train_Acc: 89.5378, Validation Loss: 14.2891, Val_Acc: 14.8918\n",
            "Epoch 124/300, Train_Loss: 78.7242, Train_Acc: 89.4525, Validation Loss: 14.2675, Val_Acc: 14.8758\n",
            "Epoch 125/300, Train_Loss: 78.5903, Train_Acc: 89.5534, Validation Loss: 14.2520, Val_Acc: 14.8807\n",
            "Epoch 126/300, Train_Loss: 78.6271, Train_Acc: 89.6022, Validation Loss: 14.2518, Val_Acc: 14.9037\n",
            "Epoch 127/300, Train_Loss: 78.2707, Train_Acc: 89.7155, Validation Loss: 14.1981, Val_Acc: 14.9000\n",
            "Epoch 128/300, Train_Loss: 78.3252, Train_Acc: 89.6823, Validation Loss: 14.1692, Val_Acc: 14.9391\n",
            "Epoch 129/300, Train_Loss: 78.0750, Train_Acc: 89.8138, Validation Loss: 14.1403, Val_Acc: 14.9287\n",
            "Epoch 130/300, Train_Loss: 77.9494, Train_Acc: 89.8249, Validation Loss: 14.1321, Val_Acc: 14.9159\n",
            "Epoch 131/300, Train_Loss: 77.7437, Train_Acc: 89.8939, Validation Loss: 14.1050, Val_Acc: 14.9120\n",
            "Epoch 132/300, Train_Loss: 77.6437, Train_Acc: 89.9342, Validation Loss: 14.0998, Val_Acc: 14.9269\n",
            "Epoch 133/300, Train_Loss: 77.4773, Train_Acc: 90.0775, Validation Loss: 14.0511, Val_Acc: 14.9118\n",
            "Epoch 134/300, Train_Loss: 77.3745, Train_Acc: 90.0293, Validation Loss: 14.0224, Val_Acc: 14.9543\n",
            "Epoch 135/300, Train_Loss: 77.1226, Train_Acc: 90.1569, Validation Loss: 14.0060, Val_Acc: 14.9760\n",
            "Epoch 136/300, Train_Loss: 76.9330, Train_Acc: 90.1869, Validation Loss: 13.9841, Val_Acc: 14.9794\n",
            "Epoch 137/300, Train_Loss: 76.8512, Train_Acc: 90.2845, Validation Loss: 13.9548, Val_Acc: 14.9975\n",
            "Epoch 138/300, Train_Loss: 76.7019, Train_Acc: 90.2799, Validation Loss: 13.9467, Val_Acc: 14.9784\n",
            "Epoch 139/300, Train_Loss: 76.6875, Train_Acc: 90.3092, Validation Loss: 13.9232, Val_Acc: 14.9389\n",
            "Epoch 140/300, Train_Loss: 76.4511, Train_Acc: 90.3841, Validation Loss: 13.8864, Val_Acc: 14.9914\n",
            "Epoch 141/300, Train_Loss: 76.2453, Train_Acc: 90.4355, Validation Loss: 13.8771, Val_Acc: 14.9679\n",
            "Epoch 142/300, Train_Loss: 76.2101, Train_Acc: 90.4486, Validation Loss: 13.8463, Val_Acc: 15.0072\n",
            "Epoch 143/300, Train_Loss: 75.9964, Train_Acc: 90.5410, Validation Loss: 13.8383, Val_Acc: 14.9775\n",
            "Epoch 144/300, Train_Loss: 75.9110, Train_Acc: 90.5462, Validation Loss: 13.8330, Val_Acc: 14.9936\n",
            "Epoch 145/300, Train_Loss: 75.7739, Train_Acc: 90.6126, Validation Loss: 13.7906, Val_Acc: 15.0192\n",
            "Epoch 146/300, Train_Loss: 75.6832, Train_Acc: 90.5977, Validation Loss: 13.7654, Val_Acc: 15.0016\n",
            "Epoch 147/300, Train_Loss: 75.5209, Train_Acc: 90.6940, Validation Loss: 13.7458, Val_Acc: 15.0114\n",
            "Epoch 148/300, Train_Loss: 75.4925, Train_Acc: 90.7051, Validation Loss: 13.7337, Val_Acc: 15.0077\n",
            "Epoch 149/300, Train_Loss: 75.2548, Train_Acc: 90.7318, Validation Loss: 13.7115, Val_Acc: 15.0389\n",
            "Epoch 150/300, Train_Loss: 75.0952, Train_Acc: 90.8561, Validation Loss: 13.6828, Val_Acc: 15.0248\n",
            "Epoch 151/300, Train_Loss: 75.1328, Train_Acc: 90.8307, Validation Loss: 13.6719, Val_Acc: 15.0253\n",
            "Epoch 152/300, Train_Loss: 74.9738, Train_Acc: 90.9076, Validation Loss: 13.6464, Val_Acc: 15.0368\n",
            "Epoch 153/300, Train_Loss: 74.7797, Train_Acc: 90.9447, Validation Loss: 13.6256, Val_Acc: 15.0407\n",
            "Epoch 154/300, Train_Loss: 74.6839, Train_Acc: 90.9694, Validation Loss: 13.6082, Val_Acc: 15.0407\n",
            "Epoch 155/300, Train_Loss: 74.4878, Train_Acc: 91.0964, Validation Loss: 13.5964, Val_Acc: 15.0541\n",
            "Epoch 156/300, Train_Loss: 74.4486, Train_Acc: 91.0918, Validation Loss: 13.5714, Val_Acc: 15.0712\n",
            "Epoch 157/300, Train_Loss: 74.2870, Train_Acc: 91.1621, Validation Loss: 13.5591, Val_Acc: 15.0468\n",
            "Epoch 158/300, Train_Loss: 74.1661, Train_Acc: 91.1699, Validation Loss: 13.5408, Val_Acc: 15.0680\n",
            "Epoch 159/300, Train_Loss: 74.1981, Train_Acc: 91.1296, Validation Loss: 13.5298, Val_Acc: 15.0568\n",
            "Epoch 160/300, Train_Loss: 73.8903, Train_Acc: 91.3301, Validation Loss: 13.4965, Val_Acc: 15.0815\n",
            "Epoch 161/300, Train_Loss: 73.9723, Train_Acc: 91.2344, Validation Loss: 13.4769, Val_Acc: 15.0873\n",
            "Epoch 162/300, Train_Loss: 73.8247, Train_Acc: 91.2728, Validation Loss: 13.4645, Val_Acc: 15.1008\n",
            "Epoch 163/300, Train_Loss: 73.7702, Train_Acc: 91.2839, Validation Loss: 13.4486, Val_Acc: 15.0890\n",
            "Epoch 164/300, Train_Loss: 73.6570, Train_Acc: 91.3327, Validation Loss: 13.4395, Val_Acc: 15.0736\n",
            "Epoch 165/300, Train_Loss: 73.3935, Train_Acc: 91.3574, Validation Loss: 13.4223, Val_Acc: 15.0893\n",
            "Epoch 166/300, Train_Loss: 73.2461, Train_Acc: 91.4681, Validation Loss: 13.3976, Val_Acc: 15.1008\n",
            "Epoch 167/300, Train_Loss: 73.2779, Train_Acc: 91.4238, Validation Loss: 13.4227, Val_Acc: 15.0808\n",
            "Epoch 168/300, Train_Loss: 73.1050, Train_Acc: 91.4557, Validation Loss: 13.3619, Val_Acc: 15.1125\n",
            "Epoch 169/300, Train_Loss: 72.9944, Train_Acc: 91.5378, Validation Loss: 13.3584, Val_Acc: 15.1105\n",
            "Epoch 170/300, Train_Loss: 72.9011, Train_Acc: 91.5247, Validation Loss: 13.3512, Val_Acc: 15.1083\n",
            "Epoch 171/300, Train_Loss: 72.7200, Train_Acc: 91.6380, Validation Loss: 13.3312, Val_Acc: 15.1029\n",
            "Epoch 172/300, Train_Loss: 72.7078, Train_Acc: 91.5892, Validation Loss: 13.3260, Val_Acc: 15.1103\n",
            "Epoch 173/300, Train_Loss: 72.5495, Train_Acc: 91.6250, Validation Loss: 13.2997, Val_Acc: 15.1515\n",
            "Epoch 174/300, Train_Loss: 72.5311, Train_Acc: 91.6400, Validation Loss: 13.2807, Val_Acc: 15.1518\n",
            "Epoch 175/300, Train_Loss: 72.2837, Train_Acc: 91.6862, Validation Loss: 13.2641, Val_Acc: 15.1576\n",
            "Epoch 176/300, Train_Loss: 72.3490, Train_Acc: 91.6471, Validation Loss: 13.2639, Val_Acc: 15.1088\n",
            "Epoch 177/300, Train_Loss: 72.3111, Train_Acc: 91.7331, Validation Loss: 13.2280, Val_Acc: 15.1322\n",
            "Epoch 178/300, Train_Loss: 72.0895, Train_Acc: 91.8125, Validation Loss: 13.2178, Val_Acc: 15.1726\n",
            "Epoch 179/300, Train_Loss: 71.9648, Train_Acc: 91.8646, Validation Loss: 13.2160, Val_Acc: 15.1633\n",
            "Epoch 180/300, Train_Loss: 71.9748, Train_Acc: 91.8796, Validation Loss: 13.2102, Val_Acc: 15.1455\n",
            "Epoch 181/300, Train_Loss: 71.7200, Train_Acc: 91.9264, Validation Loss: 13.1744, Val_Acc: 15.1613\n",
            "Epoch 182/300, Train_Loss: 71.7725, Train_Acc: 91.8958, Validation Loss: 13.1644, Val_Acc: 15.1784\n",
            "Epoch 183/300, Train_Loss: 71.5631, Train_Acc: 92.0046, Validation Loss: 13.1450, Val_Acc: 15.2001\n",
            "Epoch 184/300, Train_Loss: 71.4702, Train_Acc: 92.0944, Validation Loss: 13.1310, Val_Acc: 15.1808\n",
            "Epoch 185/300, Train_Loss: 71.5241, Train_Acc: 92.0892, Validation Loss: 13.1170, Val_Acc: 15.1750\n",
            "Epoch 186/300, Train_Loss: 71.3669, Train_Acc: 92.0690, Validation Loss: 13.1382, Val_Acc: 15.1587\n",
            "Epoch 187/300, Train_Loss: 71.1315, Train_Acc: 92.1361, Validation Loss: 13.0981, Val_Acc: 15.1967\n",
            "Epoch 188/300, Train_Loss: 71.1346, Train_Acc: 92.1908, Validation Loss: 13.0744, Val_Acc: 15.2077\n",
            "Epoch 189/300, Train_Loss: 71.0814, Train_Acc: 92.1842, Validation Loss: 13.0672, Val_Acc: 15.1923\n",
            "Epoch 190/300, Train_Loss: 70.9594, Train_Acc: 92.2363, Validation Loss: 13.0625, Val_Acc: 15.1921\n",
            "Epoch 191/300, Train_Loss: 70.8055, Train_Acc: 92.2337, Validation Loss: 13.0411, Val_Acc: 15.2121\n",
            "Epoch 192/300, Train_Loss: 70.7504, Train_Acc: 92.2865, Validation Loss: 13.0241, Val_Acc: 15.2160\n",
            "Epoch 193/300, Train_Loss: 70.6734, Train_Acc: 92.3216, Validation Loss: 13.0195, Val_Acc: 15.2290\n",
            "Epoch 194/300, Train_Loss: 70.5990, Train_Acc: 92.3861, Validation Loss: 13.0062, Val_Acc: 15.2155\n",
            "Epoch 195/300, Train_Loss: 70.5659, Train_Acc: 92.3008, Validation Loss: 12.9870, Val_Acc: 15.2292\n",
            "Epoch 196/300, Train_Loss: 70.4819, Train_Acc: 92.3744, Validation Loss: 12.9810, Val_Acc: 15.2507\n",
            "Epoch 197/300, Train_Loss: 70.4769, Train_Acc: 92.3926, Validation Loss: 12.9650, Val_Acc: 15.2583\n",
            "Epoch 198/300, Train_Loss: 70.2610, Train_Acc: 92.4473, Validation Loss: 12.9519, Val_Acc: 15.2329\n",
            "Epoch 199/300, Train_Loss: 70.1304, Train_Acc: 92.4844, Validation Loss: 12.9380, Val_Acc: 15.2663\n",
            "Epoch 200/300, Train_Loss: 70.2040, Train_Acc: 92.5833, Validation Loss: 12.9411, Val_Acc: 15.2678\n",
            "Epoch 201/300, Train_Loss: 70.0213, Train_Acc: 92.5716, Validation Loss: 12.9127, Val_Acc: 15.2761\n",
            "Epoch 202/300, Train_Loss: 69.9037, Train_Acc: 92.5742, Validation Loss: 12.8948, Val_Acc: 15.2858\n",
            "Epoch 203/300, Train_Loss: 69.8052, Train_Acc: 92.7363, Validation Loss: 12.9013, Val_Acc: 15.2570\n",
            "Epoch 204/300, Train_Loss: 69.7754, Train_Acc: 92.6608, Validation Loss: 12.8783, Val_Acc: 15.2637\n",
            "Epoch 205/300, Train_Loss: 69.6532, Train_Acc: 92.6517, Validation Loss: 12.8584, Val_Acc: 15.2815\n",
            "Epoch 206/300, Train_Loss: 69.6941, Train_Acc: 92.6354, Validation Loss: 12.8525, Val_Acc: 15.2722\n",
            "Epoch 207/300, Train_Loss: 69.5877, Train_Acc: 92.6960, Validation Loss: 12.8382, Val_Acc: 15.2902\n",
            "Epoch 208/300, Train_Loss: 69.5035, Train_Acc: 92.7096, Validation Loss: 12.8661, Val_Acc: 15.2431\n",
            "Epoch 209/300, Train_Loss: 69.4272, Train_Acc: 92.7305, Validation Loss: 12.8249, Val_Acc: 15.3030\n",
            "Epoch 210/300, Train_Loss: 69.2992, Train_Acc: 92.7930, Validation Loss: 12.8119, Val_Acc: 15.2834\n",
            "Epoch 211/300, Train_Loss: 69.2129, Train_Acc: 92.7572, Validation Loss: 12.7971, Val_Acc: 15.2956\n",
            "Epoch 212/300, Train_Loss: 69.3560, Train_Acc: 92.8073, Validation Loss: 12.7863, Val_Acc: 15.3073\n",
            "Epoch 213/300, Train_Loss: 69.0733, Train_Acc: 92.8327, Validation Loss: 12.7755, Val_Acc: 15.3169\n",
            "Epoch 214/300, Train_Loss: 68.9490, Train_Acc: 92.8281, Validation Loss: 12.7693, Val_Acc: 15.3188\n",
            "Epoch 215/300, Train_Loss: 68.8992, Train_Acc: 92.9206, Validation Loss: 12.8214, Val_Acc: 15.3342\n",
            "Epoch 216/300, Train_Loss: 68.9652, Train_Acc: 92.9290, Validation Loss: 12.7482, Val_Acc: 15.3386\n",
            "Epoch 217/300, Train_Loss: 68.7263, Train_Acc: 92.9355, Validation Loss: 12.7317, Val_Acc: 15.3330\n",
            "Epoch 218/300, Train_Loss: 68.7259, Train_Acc: 92.9850, Validation Loss: 12.7223, Val_Acc: 15.3479\n",
            "Epoch 219/300, Train_Loss: 68.6293, Train_Acc: 93.0521, Validation Loss: 12.7265, Val_Acc: 15.3188\n",
            "Epoch 220/300, Train_Loss: 68.5332, Train_Acc: 93.0299, Validation Loss: 12.6988, Val_Acc: 15.3377\n",
            "Epoch 221/300, Train_Loss: 68.4772, Train_Acc: 93.1322, Validation Loss: 12.6974, Val_Acc: 15.3420\n",
            "Epoch 222/300, Train_Loss: 68.6477, Train_Acc: 92.9941, Validation Loss: 12.6760, Val_Acc: 15.3418\n",
            "Epoch 223/300, Train_Loss: 68.3462, Train_Acc: 93.0664, Validation Loss: 12.6759, Val_Acc: 15.3516\n",
            "Epoch 224/300, Train_Loss: 68.3406, Train_Acc: 93.0866, Validation Loss: 12.6672, Val_Acc: 15.3095\n",
            "Epoch 225/300, Train_Loss: 68.2465, Train_Acc: 93.1094, Validation Loss: 12.6529, Val_Acc: 15.3555\n",
            "Epoch 226/300, Train_Loss: 68.0979, Train_Acc: 93.1367, Validation Loss: 12.6381, Val_Acc: 15.3674\n",
            "Epoch 227/300, Train_Loss: 68.0303, Train_Acc: 93.1842, Validation Loss: 12.6397, Val_Acc: 15.3735\n",
            "Epoch 228/300, Train_Loss: 67.9208, Train_Acc: 93.2461, Validation Loss: 12.6179, Val_Acc: 15.3830\n",
            "Epoch 229/300, Train_Loss: 67.8073, Train_Acc: 93.2266, Validation Loss: 12.6085, Val_Acc: 15.3772\n",
            "Epoch 230/300, Train_Loss: 67.8790, Train_Acc: 93.2845, Validation Loss: 12.6130, Val_Acc: 15.4119\n",
            "Epoch 231/300, Train_Loss: 67.8924, Train_Acc: 93.3320, Validation Loss: 12.6342, Val_Acc: 15.3683\n",
            "Epoch 232/300, Train_Loss: 67.8128, Train_Acc: 93.2852, Validation Loss: 12.6097, Val_Acc: 15.3498\n",
            "Epoch 233/300, Train_Loss: 67.6097, Train_Acc: 93.3555, Validation Loss: 12.5795, Val_Acc: 15.4099\n",
            "Epoch 234/300, Train_Loss: 67.5805, Train_Acc: 93.3646, Validation Loss: 12.5791, Val_Acc: 15.3989\n",
            "Epoch 235/300, Train_Loss: 67.5025, Train_Acc: 93.3828, Validation Loss: 12.5684, Val_Acc: 15.4126\n",
            "Epoch 236/300, Train_Loss: 67.3330, Train_Acc: 93.4635, Validation Loss: 12.5539, Val_Acc: 15.4045\n",
            "Epoch 237/300, Train_Loss: 67.4802, Train_Acc: 93.3991, Validation Loss: 12.5360, Val_Acc: 15.4334\n",
            "Epoch 238/300, Train_Loss: 67.2927, Train_Acc: 93.4928, Validation Loss: 12.5252, Val_Acc: 15.3894\n",
            "Epoch 239/300, Train_Loss: 67.1107, Train_Acc: 93.5996, Validation Loss: 12.5657, Val_Acc: 15.3815\n",
            "Epoch 240/300, Train_Loss: 67.2571, Train_Acc: 93.5312, Validation Loss: 12.5198, Val_Acc: 15.4360\n",
            "Epoch 241/300, Train_Loss: 67.1365, Train_Acc: 93.5931, Validation Loss: 12.5067, Val_Acc: 15.4026\n",
            "Epoch 242/300, Train_Loss: 66.9276, Train_Acc: 93.6172, Validation Loss: 12.5044, Val_Acc: 15.4202\n",
            "Epoch 243/300, Train_Loss: 67.0263, Train_Acc: 93.6029, Validation Loss: 12.4859, Val_Acc: 15.3965\n",
            "Epoch 244/300, Train_Loss: 66.9444, Train_Acc: 93.5957, Validation Loss: 12.4876, Val_Acc: 15.3948\n",
            "Epoch 245/300, Train_Loss: 66.7877, Train_Acc: 93.6589, Validation Loss: 12.4743, Val_Acc: 15.4009\n",
            "Epoch 246/300, Train_Loss: 66.7718, Train_Acc: 93.6810, Validation Loss: 12.4559, Val_Acc: 15.4301\n",
            "Epoch 247/300, Train_Loss: 66.7414, Train_Acc: 93.7572, Validation Loss: 12.4450, Val_Acc: 15.4449\n",
            "Epoch 248/300, Train_Loss: 66.7799, Train_Acc: 93.6947, Validation Loss: 12.4659, Val_Acc: 15.4030\n",
            "Epoch 249/300, Train_Loss: 66.6992, Train_Acc: 93.7884, Validation Loss: 12.4440, Val_Acc: 15.4321\n",
            "Epoch 250/300, Train_Loss: 66.5486, Train_Acc: 93.7956, Validation Loss: 12.4266, Val_Acc: 15.4555\n",
            "Epoch 251/300, Train_Loss: 66.5720, Train_Acc: 93.7552, Validation Loss: 12.4121, Val_Acc: 15.4434\n",
            "Epoch 252/300, Train_Loss: 66.4065, Train_Acc: 93.8802, Validation Loss: 12.4094, Val_Acc: 15.4588\n",
            "Epoch 253/300, Train_Loss: 66.3768, Train_Acc: 93.8678, Validation Loss: 12.3943, Val_Acc: 15.4531\n",
            "Epoch 254/300, Train_Loss: 66.2076, Train_Acc: 93.8255, Validation Loss: 12.4030, Val_Acc: 15.4629\n",
            "Epoch 255/300, Train_Loss: 66.2388, Train_Acc: 93.9427, Validation Loss: 12.3853, Val_Acc: 15.4416\n",
            "Epoch 256/300, Train_Loss: 66.2924, Train_Acc: 93.9082, Validation Loss: 12.3781, Val_Acc: 15.4416\n",
            "Epoch 257/300, Train_Loss: 66.0024, Train_Acc: 94.0176, Validation Loss: 12.3710, Val_Acc: 15.4492\n",
            "Epoch 258/300, Train_Loss: 66.0710, Train_Acc: 93.9056, Validation Loss: 12.3689, Val_Acc: 15.4805\n",
            "Epoch 259/300, Train_Loss: 65.9539, Train_Acc: 94.0319, Validation Loss: 12.3500, Val_Acc: 15.4707\n",
            "Epoch 260/300, Train_Loss: 65.7465, Train_Acc: 94.0957, Validation Loss: 12.3517, Val_Acc: 15.4824\n",
            "Epoch 261/300, Train_Loss: 65.8372, Train_Acc: 94.0299, Validation Loss: 12.3393, Val_Acc: 15.4824\n",
            "Epoch 262/300, Train_Loss: 65.8984, Train_Acc: 94.0299, Validation Loss: 12.3363, Val_Acc: 15.4827\n",
            "Epoch 263/300, Train_Loss: 65.7508, Train_Acc: 94.1074, Validation Loss: 12.3458, Val_Acc: 15.4883\n",
            "Epoch 264/300, Train_Loss: 65.7173, Train_Acc: 94.0540, Validation Loss: 12.3226, Val_Acc: 15.4848\n",
            "Epoch 265/300, Train_Loss: 65.5742, Train_Acc: 94.1634, Validation Loss: 12.3128, Val_Acc: 15.4751\n",
            "Epoch 266/300, Train_Loss: 65.5937, Train_Acc: 94.1315, Validation Loss: 12.3320, Val_Acc: 15.4946\n",
            "Epoch 267/300, Train_Loss: 65.6902, Train_Acc: 94.1784, Validation Loss: 12.2884, Val_Acc: 15.4900\n",
            "Epoch 268/300, Train_Loss: 65.4808, Train_Acc: 94.2025, Validation Loss: 12.3163, Val_Acc: 15.4677\n",
            "Epoch 269/300, Train_Loss: 65.4912, Train_Acc: 94.2415, Validation Loss: 12.2749, Val_Acc: 15.4985\n",
            "Epoch 270/300, Train_Loss: 65.3206, Train_Acc: 94.2708, Validation Loss: 12.2835, Val_Acc: 15.5085\n",
            "Epoch 271/300, Train_Loss: 65.3907, Train_Acc: 94.2376, Validation Loss: 12.2648, Val_Acc: 15.5391\n",
            "Epoch 272/300, Train_Loss: 65.3534, Train_Acc: 94.2826, Validation Loss: 12.2584, Val_Acc: 15.4963\n",
            "Epoch 273/300, Train_Loss: 65.3237, Train_Acc: 94.3190, Validation Loss: 12.2423, Val_Acc: 15.5210\n",
            "Epoch 274/300, Train_Loss: 65.1823, Train_Acc: 94.2480, Validation Loss: 12.2373, Val_Acc: 15.5388\n",
            "Epoch 275/300, Train_Loss: 65.1639, Train_Acc: 94.3301, Validation Loss: 12.2367, Val_Acc: 15.5198\n",
            "Epoch 276/300, Train_Loss: 64.9854, Train_Acc: 94.4212, Validation Loss: 12.2234, Val_Acc: 15.5161\n",
            "Epoch 277/300, Train_Loss: 64.9011, Train_Acc: 94.3717, Validation Loss: 12.2191, Val_Acc: 15.5542\n",
            "Epoch 278/300, Train_Loss: 64.9815, Train_Acc: 94.4121, Validation Loss: 12.2250, Val_Acc: 15.5044\n",
            "Epoch 279/300, Train_Loss: 64.9010, Train_Acc: 94.4381, Validation Loss: 12.2104, Val_Acc: 15.5701\n",
            "Epoch 280/300, Train_Loss: 64.9100, Train_Acc: 94.3867, Validation Loss: 12.2034, Val_Acc: 15.4946\n",
            "Epoch 281/300, Train_Loss: 64.7838, Train_Acc: 94.4199, Validation Loss: 12.2117, Val_Acc: 15.5412\n",
            "Epoch 282/300, Train_Loss: 64.7506, Train_Acc: 94.4401, Validation Loss: 12.1821, Val_Acc: 15.5395\n",
            "Epoch 283/300, Train_Loss: 64.5574, Train_Acc: 94.4987, Validation Loss: 12.1794, Val_Acc: 15.5371\n",
            "Epoch 284/300, Train_Loss: 64.5905, Train_Acc: 94.4714, Validation Loss: 12.1770, Val_Acc: 15.5530\n",
            "Epoch 285/300, Train_Loss: 64.4352, Train_Acc: 94.5540, Validation Loss: 12.2072, Val_Acc: 15.5669\n",
            "Epoch 286/300, Train_Loss: 64.5856, Train_Acc: 94.5553, Validation Loss: 12.1535, Val_Acc: 15.5738\n",
            "Epoch 287/300, Train_Loss: 64.3981, Train_Acc: 94.5866, Validation Loss: 12.1494, Val_Acc: 15.5605\n",
            "Epoch 288/300, Train_Loss: 64.4384, Train_Acc: 94.5423, Validation Loss: 12.1578, Val_Acc: 15.5935\n",
            "Epoch 289/300, Train_Loss: 64.3821, Train_Acc: 94.6048, Validation Loss: 12.1797, Val_Acc: 15.5684\n",
            "Epoch 290/300, Train_Loss: 64.2634, Train_Acc: 94.5924, Validation Loss: 12.1234, Val_Acc: 15.5759\n",
            "Epoch 291/300, Train_Loss: 64.4543, Train_Acc: 94.5716, Validation Loss: 12.1598, Val_Acc: 15.5564\n",
            "Epoch 292/300, Train_Loss: 64.1852, Train_Acc: 94.6647, Validation Loss: 12.1119, Val_Acc: 15.5862\n",
            "Epoch 293/300, Train_Loss: 64.1302, Train_Acc: 94.6211, Validation Loss: 12.1058, Val_Acc: 15.6011\n",
            "Epoch 294/300, Train_Loss: 64.1788, Train_Acc: 94.6979, Validation Loss: 12.1033, Val_Acc: 15.5898\n",
            "Epoch 295/300, Train_Loss: 64.0807, Train_Acc: 94.6615, Validation Loss: 12.1000, Val_Acc: 15.5664\n",
            "Epoch 296/300, Train_Loss: 64.1125, Train_Acc: 94.6530, Validation Loss: 12.0982, Val_Acc: 15.5747\n",
            "Epoch 297/300, Train_Loss: 63.9933, Train_Acc: 94.6745, Validation Loss: 12.0961, Val_Acc: 15.6128\n",
            "Epoch 298/300, Train_Loss: 63.9340, Train_Acc: 94.6862, Validation Loss: 12.0915, Val_Acc: 15.6241\n",
            "Epoch 299/300, Train_Loss: 63.7442, Train_Acc: 94.8203, Validation Loss: 12.0797, Val_Acc: 15.5933\n",
            "Epoch 300/300, Train_Loss: 63.8782, Train_Acc: 94.6934, Validation Loss: 12.0630, Val_Acc: 15.5896\n"
          ]
        }
      ]
    },
    {
      "cell_type": "code",
      "source": [
        "train_accs = [acc.detach().cpu().item() for acc in train_accs]\n",
        "val_accs = [acc.detach().cpu().item() for acc in val_accs]"
      ],
      "metadata": {
        "id": "9DpYV7GiEqA5"
      },
      "execution_count": null,
      "outputs": []
    },
    {
      "cell_type": "code",
      "source": [
        "import matplotlib.pyplot as plt\n",
        "\n",
        "fig, ax = plt.subplots(1, 2, sharex=True, figsize=(12, 6))\n",
        "fig.suptitle('Loss and Accuracy over Iteration')\n",
        "\n",
        "ax[0].plot(train_losses, label='loss')\n",
        "ax[0].plot(val_losses, label='acc')\n",
        "ax[0].set_ylabel('Loss')\n",
        "ax[0].legend()\n",
        "\n",
        "ax[1].plot(train_accs, label='train_accuracy')\n",
        "ax[1].plot(val_accs, label='val_accuracy')\n",
        "ax[1].set_ylabel('Accuracy')\n",
        "ax[1].legend()\n",
        "\n",
        "plt.show()"
      ],
      "metadata": {
        "colab": {
          "base_uri": "https://localhost:8080/",
          "height": 582
        },
        "id": "8KbpAOIh409F",
        "outputId": "5481523e-ae8a-4e28-cde0-a1aebc4e266a"
      },
      "execution_count": 45,
      "outputs": [
        {
          "output_type": "display_data",
          "data": {
            "text/plain": [
              "<Figure size 1200x600 with 2 Axes>"
            ],
            "image/png": "[encoded data removed]"
          },
          "metadata": {}
        }
      ]
    }
  ],
  "metadata": {
    "colab": {
      "provenance": [],
      "gpuType": "T4",
      "authorship_tag": "ABX9TyM6nwukXn8elsEt/Y09p67q",
      "include_colab_link": true
    },
    "kernelspec": {
      "display_name": "Python 3",
      "name": "python3"
    },
    "language_info": {
      "name": "python"
    },
    "accelerator": "GPU"
  },
  "nbformat": 4,
  "nbformat_minor": 0
}